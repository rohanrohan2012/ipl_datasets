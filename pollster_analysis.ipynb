{
  "nbformat": 4,
  "nbformat_minor": 0,
  "metadata": {
    "colab": {
      "name": "pollster_analysis.ipynb",
      "provenance": [],
      "collapsed_sections": [],
      "authorship_tag": "ABX9TyP8L69chq5KWA8mHefeBi3K",
      "include_colab_link": true
    },
    "kernelspec": {
      "name": "python3",
      "display_name": "Python 3"
    }
  },
  "cells": [
    {
      "cell_type": "markdown",
      "metadata": {
        "id": "view-in-github",
        "colab_type": "text"
      },
      "source": [
        "<a href=\"https://colab.research.google.com/github/rohanrohan2012/ipl_datasets/blob/master/pollster_analysis.ipynb\" target=\"_parent\"><img src=\"https://colab.research.google.com/assets/colab-badge.svg\" alt=\"Open In Colab\"/></a>"
      ]
    },
    {
      "cell_type": "code",
      "metadata": {
        "id": "DASLXqEnjHxv",
        "colab_type": "code",
        "colab": {}
      },
      "source": [
        "%matplotlib inline\n",
        "import pandas as pd \n",
        "import numpy as np\n",
        "import matplotlib.pyplot as plt\n",
        "import seaborn as sns\n",
        "sns.set()"
      ],
      "execution_count": 0,
      "outputs": []
    },
    {
      "cell_type": "code",
      "metadata": {
        "id": "GFt-iAsNjNgy",
        "colab_type": "code",
        "colab": {
          "base_uri": "https://localhost:8080/",
          "height": 564
        },
        "outputId": "3d0d9585-34d2-40aa-80d4-62196a5b58b7"
      },
      "source": [
        "url='https://raw.githubusercontent.com/rohanrohan2012/ipl_datasets/master/election/presidential_polls.csv'\n",
        "df = pd.read_csv(url)\n",
        "df.head(5)\n"
      ],
      "execution_count": 47,
      "outputs": [
        {
          "output_type": "execute_result",
          "data": {
            "text/html": [
              "<div>\n",
              "<style scoped>\n",
              "    .dataframe tbody tr th:only-of-type {\n",
              "        vertical-align: middle;\n",
              "    }\n",
              "\n",
              "    .dataframe tbody tr th {\n",
              "        vertical-align: top;\n",
              "    }\n",
              "\n",
              "    .dataframe thead th {\n",
              "        text-align: right;\n",
              "    }\n",
              "</style>\n",
              "<table border=\"1\" class=\"dataframe\">\n",
              "  <thead>\n",
              "    <tr style=\"text-align: right;\">\n",
              "      <th></th>\n",
              "      <th>cycle</th>\n",
              "      <th>branch</th>\n",
              "      <th>type</th>\n",
              "      <th>matchup</th>\n",
              "      <th>forecastdate</th>\n",
              "      <th>state</th>\n",
              "      <th>startdate</th>\n",
              "      <th>enddate</th>\n",
              "      <th>pollster</th>\n",
              "      <th>grade</th>\n",
              "      <th>samplesize</th>\n",
              "      <th>population</th>\n",
              "      <th>poll_wt</th>\n",
              "      <th>rawpoll_clinton</th>\n",
              "      <th>rawpoll_trump</th>\n",
              "      <th>rawpoll_johnson</th>\n",
              "      <th>rawpoll_mcmullin</th>\n",
              "      <th>adjpoll_clinton</th>\n",
              "      <th>adjpoll_trump</th>\n",
              "      <th>adjpoll_johnson</th>\n",
              "      <th>adjpoll_mcmullin</th>\n",
              "      <th>multiversions</th>\n",
              "      <th>url</th>\n",
              "      <th>poll_id</th>\n",
              "      <th>question_id</th>\n",
              "      <th>createddate</th>\n",
              "      <th>timestamp</th>\n",
              "    </tr>\n",
              "  </thead>\n",
              "  <tbody>\n",
              "    <tr>\n",
              "      <th>0</th>\n",
              "      <td>2016</td>\n",
              "      <td>President</td>\n",
              "      <td>polls-plus</td>\n",
              "      <td>Clinton vs. Trump vs. Johnson</td>\n",
              "      <td>11/1/16</td>\n",
              "      <td>U.S.</td>\n",
              "      <td>10/25/2016</td>\n",
              "      <td>10/31/2016</td>\n",
              "      <td>Google Consumer Surveys</td>\n",
              "      <td>B</td>\n",
              "      <td>24316.0</td>\n",
              "      <td>lv</td>\n",
              "      <td>6.139129</td>\n",
              "      <td>37.69</td>\n",
              "      <td>35.07</td>\n",
              "      <td>6.18</td>\n",
              "      <td>NaN</td>\n",
              "      <td>42.64140</td>\n",
              "      <td>40.86509</td>\n",
              "      <td>5.675099</td>\n",
              "      <td>NaN</td>\n",
              "      <td>NaN</td>\n",
              "      <td>https://datastudio.google.com/u/0/#/org//repor...</td>\n",
              "      <td>47940</td>\n",
              "      <td>74999</td>\n",
              "      <td>11/1/16</td>\n",
              "      <td>15:09:38  1 Nov 2016</td>\n",
              "    </tr>\n",
              "    <tr>\n",
              "      <th>1</th>\n",
              "      <td>2016</td>\n",
              "      <td>President</td>\n",
              "      <td>polls-plus</td>\n",
              "      <td>Clinton vs. Trump vs. Johnson</td>\n",
              "      <td>11/1/16</td>\n",
              "      <td>U.S.</td>\n",
              "      <td>10/27/2016</td>\n",
              "      <td>10/30/2016</td>\n",
              "      <td>ABC News/Washington Post</td>\n",
              "      <td>A+</td>\n",
              "      <td>1128.0</td>\n",
              "      <td>lv</td>\n",
              "      <td>4.197292</td>\n",
              "      <td>45.00</td>\n",
              "      <td>46.00</td>\n",
              "      <td>3.00</td>\n",
              "      <td>NaN</td>\n",
              "      <td>43.29659</td>\n",
              "      <td>44.72984</td>\n",
              "      <td>3.401513</td>\n",
              "      <td>NaN</td>\n",
              "      <td>NaN</td>\n",
              "      <td>http://www.langerresearch.com/wp-content/uploa...</td>\n",
              "      <td>47881</td>\n",
              "      <td>74936</td>\n",
              "      <td>11/1/16</td>\n",
              "      <td>15:09:38  1 Nov 2016</td>\n",
              "    </tr>\n",
              "    <tr>\n",
              "      <th>2</th>\n",
              "      <td>2016</td>\n",
              "      <td>President</td>\n",
              "      <td>polls-plus</td>\n",
              "      <td>Clinton vs. Trump vs. Johnson</td>\n",
              "      <td>11/1/16</td>\n",
              "      <td>Virginia</td>\n",
              "      <td>10/27/2016</td>\n",
              "      <td>10/30/2016</td>\n",
              "      <td>ABC News/Washington Post</td>\n",
              "      <td>A+</td>\n",
              "      <td>1024.0</td>\n",
              "      <td>lv</td>\n",
              "      <td>3.876856</td>\n",
              "      <td>48.00</td>\n",
              "      <td>42.00</td>\n",
              "      <td>6.00</td>\n",
              "      <td>NaN</td>\n",
              "      <td>46.29779</td>\n",
              "      <td>40.72604</td>\n",
              "      <td>6.401513</td>\n",
              "      <td>NaN</td>\n",
              "      <td>NaN</td>\n",
              "      <td>https://www.washingtonpost.com/local/virginia-...</td>\n",
              "      <td>47880</td>\n",
              "      <td>74934</td>\n",
              "      <td>11/1/16</td>\n",
              "      <td>15:09:38  1 Nov 2016</td>\n",
              "    </tr>\n",
              "    <tr>\n",
              "      <th>3</th>\n",
              "      <td>2016</td>\n",
              "      <td>President</td>\n",
              "      <td>polls-plus</td>\n",
              "      <td>Clinton vs. Trump vs. Johnson</td>\n",
              "      <td>11/1/16</td>\n",
              "      <td>Florida</td>\n",
              "      <td>10/20/2016</td>\n",
              "      <td>10/24/2016</td>\n",
              "      <td>SurveyUSA</td>\n",
              "      <td>A</td>\n",
              "      <td>1251.0</td>\n",
              "      <td>lv</td>\n",
              "      <td>3.403096</td>\n",
              "      <td>48.00</td>\n",
              "      <td>45.00</td>\n",
              "      <td>2.00</td>\n",
              "      <td>NaN</td>\n",
              "      <td>46.35931</td>\n",
              "      <td>45.30585</td>\n",
              "      <td>1.777730</td>\n",
              "      <td>NaN</td>\n",
              "      <td>NaN</td>\n",
              "      <td>http://www.baynews9.com/content/news/baynews9/...</td>\n",
              "      <td>47465</td>\n",
              "      <td>74252</td>\n",
              "      <td>10/25/16</td>\n",
              "      <td>15:09:38  1 Nov 2016</td>\n",
              "    </tr>\n",
              "    <tr>\n",
              "      <th>4</th>\n",
              "      <td>2016</td>\n",
              "      <td>President</td>\n",
              "      <td>polls-plus</td>\n",
              "      <td>Clinton vs. Trump vs. Johnson</td>\n",
              "      <td>11/1/16</td>\n",
              "      <td>U.S.</td>\n",
              "      <td>10/20/2016</td>\n",
              "      <td>10/25/2016</td>\n",
              "      <td>Pew Research Center</td>\n",
              "      <td>B+</td>\n",
              "      <td>2120.0</td>\n",
              "      <td>rv</td>\n",
              "      <td>3.394646</td>\n",
              "      <td>46.00</td>\n",
              "      <td>40.00</td>\n",
              "      <td>6.00</td>\n",
              "      <td>NaN</td>\n",
              "      <td>45.32744</td>\n",
              "      <td>42.20888</td>\n",
              "      <td>3.618320</td>\n",
              "      <td>NaN</td>\n",
              "      <td>NaN</td>\n",
              "      <td>http://www.people-press.org/2016/10/27/as-elec...</td>\n",
              "      <td>47616</td>\n",
              "      <td>74519</td>\n",
              "      <td>10/27/16</td>\n",
              "      <td>15:09:38  1 Nov 2016</td>\n",
              "    </tr>\n",
              "  </tbody>\n",
              "</table>\n",
              "</div>"
            ],
            "text/plain": [
              "   cycle     branch        type  ... question_id createddate             timestamp\n",
              "0   2016  President  polls-plus  ...       74999     11/1/16  15:09:38  1 Nov 2016\n",
              "1   2016  President  polls-plus  ...       74936     11/1/16  15:09:38  1 Nov 2016\n",
              "2   2016  President  polls-plus  ...       74934     11/1/16  15:09:38  1 Nov 2016\n",
              "3   2016  President  polls-plus  ...       74252    10/25/16  15:09:38  1 Nov 2016\n",
              "4   2016  President  polls-plus  ...       74519    10/27/16  15:09:38  1 Nov 2016\n",
              "\n",
              "[5 rows x 27 columns]"
            ]
          },
          "metadata": {
            "tags": []
          },
          "execution_count": 47
        }
      ]
    },
    {
      "cell_type": "code",
      "metadata": {
        "id": "3ZcW849cjQQr",
        "colab_type": "code",
        "colab": {}
      },
      "source": [
        "df_florida = df[df.state=='Florida']"
      ],
      "execution_count": 0,
      "outputs": []
    },
    {
      "cell_type": "code",
      "metadata": {
        "id": "Wg4rq2Rrja51",
        "colab_type": "code",
        "colab": {
          "base_uri": "https://localhost:8080/",
          "height": 51
        },
        "outputId": "33dc51c9-dc02-4f95-f207-fc6fc630869e"
      },
      "source": [
        "print(df_florida.shape)\n",
        "print(type(df_florida))"
      ],
      "execution_count": 49,
      "outputs": [
        {
          "output_type": "stream",
          "text": [
            "(360, 27)\n",
            "<class 'pandas.core.frame.DataFrame'>\n"
          ],
          "name": "stdout"
        }
      ]
    },
    {
      "cell_type": "code",
      "metadata": {
        "id": "Q1J5Mej1jdH_",
        "colab_type": "code",
        "colab": {
          "base_uri": "https://localhost:8080/",
          "height": 564
        },
        "outputId": "e639459c-6566-402e-b095-2c168861a93d"
      },
      "source": [
        "df_florida.head()"
      ],
      "execution_count": 50,
      "outputs": [
        {
          "output_type": "execute_result",
          "data": {
            "text/html": [
              "<div>\n",
              "<style scoped>\n",
              "    .dataframe tbody tr th:only-of-type {\n",
              "        vertical-align: middle;\n",
              "    }\n",
              "\n",
              "    .dataframe tbody tr th {\n",
              "        vertical-align: top;\n",
              "    }\n",
              "\n",
              "    .dataframe thead th {\n",
              "        text-align: right;\n",
              "    }\n",
              "</style>\n",
              "<table border=\"1\" class=\"dataframe\">\n",
              "  <thead>\n",
              "    <tr style=\"text-align: right;\">\n",
              "      <th></th>\n",
              "      <th>cycle</th>\n",
              "      <th>branch</th>\n",
              "      <th>type</th>\n",
              "      <th>matchup</th>\n",
              "      <th>forecastdate</th>\n",
              "      <th>state</th>\n",
              "      <th>startdate</th>\n",
              "      <th>enddate</th>\n",
              "      <th>pollster</th>\n",
              "      <th>grade</th>\n",
              "      <th>samplesize</th>\n",
              "      <th>population</th>\n",
              "      <th>poll_wt</th>\n",
              "      <th>rawpoll_clinton</th>\n",
              "      <th>rawpoll_trump</th>\n",
              "      <th>rawpoll_johnson</th>\n",
              "      <th>rawpoll_mcmullin</th>\n",
              "      <th>adjpoll_clinton</th>\n",
              "      <th>adjpoll_trump</th>\n",
              "      <th>adjpoll_johnson</th>\n",
              "      <th>adjpoll_mcmullin</th>\n",
              "      <th>multiversions</th>\n",
              "      <th>url</th>\n",
              "      <th>poll_id</th>\n",
              "      <th>question_id</th>\n",
              "      <th>createddate</th>\n",
              "      <th>timestamp</th>\n",
              "    </tr>\n",
              "  </thead>\n",
              "  <tbody>\n",
              "    <tr>\n",
              "      <th>3</th>\n",
              "      <td>2016</td>\n",
              "      <td>President</td>\n",
              "      <td>polls-plus</td>\n",
              "      <td>Clinton vs. Trump vs. Johnson</td>\n",
              "      <td>11/1/16</td>\n",
              "      <td>Florida</td>\n",
              "      <td>10/20/2016</td>\n",
              "      <td>10/24/2016</td>\n",
              "      <td>SurveyUSA</td>\n",
              "      <td>A</td>\n",
              "      <td>1251.0</td>\n",
              "      <td>lv</td>\n",
              "      <td>3.403096</td>\n",
              "      <td>48.0</td>\n",
              "      <td>45.0</td>\n",
              "      <td>2.0</td>\n",
              "      <td>NaN</td>\n",
              "      <td>46.35931</td>\n",
              "      <td>45.30585</td>\n",
              "      <td>1.777730</td>\n",
              "      <td>NaN</td>\n",
              "      <td>NaN</td>\n",
              "      <td>http://www.baynews9.com/content/news/baynews9/...</td>\n",
              "      <td>47465</td>\n",
              "      <td>74252</td>\n",
              "      <td>10/25/16</td>\n",
              "      <td>15:09:38  1 Nov 2016</td>\n",
              "    </tr>\n",
              "    <tr>\n",
              "      <th>11</th>\n",
              "      <td>2016</td>\n",
              "      <td>President</td>\n",
              "      <td>polls-plus</td>\n",
              "      <td>Clinton vs. Trump vs. Johnson</td>\n",
              "      <td>11/1/16</td>\n",
              "      <td>Florida</td>\n",
              "      <td>10/25/2016</td>\n",
              "      <td>10/27/2016</td>\n",
              "      <td>Siena College</td>\n",
              "      <td>A</td>\n",
              "      <td>815.0</td>\n",
              "      <td>lv</td>\n",
              "      <td>2.755075</td>\n",
              "      <td>42.0</td>\n",
              "      <td>46.0</td>\n",
              "      <td>4.0</td>\n",
              "      <td>NaN</td>\n",
              "      <td>41.81832</td>\n",
              "      <td>47.92262</td>\n",
              "      <td>2.676897</td>\n",
              "      <td>NaN</td>\n",
              "      <td>NaN</td>\n",
              "      <td>http://www.nytimes.com/interactive/2016/10/30/...</td>\n",
              "      <td>47771</td>\n",
              "      <td>74761</td>\n",
              "      <td>10/30/16</td>\n",
              "      <td>15:09:38  1 Nov 2016</td>\n",
              "    </tr>\n",
              "    <tr>\n",
              "      <th>15</th>\n",
              "      <td>2016</td>\n",
              "      <td>President</td>\n",
              "      <td>polls-plus</td>\n",
              "      <td>Clinton vs. Trump vs. Johnson</td>\n",
              "      <td>11/1/16</td>\n",
              "      <td>Florida</td>\n",
              "      <td>10/25/2016</td>\n",
              "      <td>10/26/2016</td>\n",
              "      <td>Marist College</td>\n",
              "      <td>A</td>\n",
              "      <td>779.0</td>\n",
              "      <td>lv</td>\n",
              "      <td>2.724520</td>\n",
              "      <td>45.0</td>\n",
              "      <td>44.0</td>\n",
              "      <td>5.0</td>\n",
              "      <td>NaN</td>\n",
              "      <td>43.19458</td>\n",
              "      <td>45.07725</td>\n",
              "      <td>3.499082</td>\n",
              "      <td>NaN</td>\n",
              "      <td>NaN</td>\n",
              "      <td>http://www.nbcnews.com/meet-the-press/polls-cl...</td>\n",
              "      <td>47776</td>\n",
              "      <td>74770</td>\n",
              "      <td>10/30/16</td>\n",
              "      <td>15:09:38  1 Nov 2016</td>\n",
              "    </tr>\n",
              "    <tr>\n",
              "      <th>17</th>\n",
              "      <td>2016</td>\n",
              "      <td>President</td>\n",
              "      <td>polls-plus</td>\n",
              "      <td>Clinton vs. Trump vs. Johnson</td>\n",
              "      <td>11/1/16</td>\n",
              "      <td>Florida</td>\n",
              "      <td>10/21/2016</td>\n",
              "      <td>10/24/2016</td>\n",
              "      <td>Selzer &amp; Company</td>\n",
              "      <td>A+</td>\n",
              "      <td>805.0</td>\n",
              "      <td>lv</td>\n",
              "      <td>2.694791</td>\n",
              "      <td>43.0</td>\n",
              "      <td>45.0</td>\n",
              "      <td>4.0</td>\n",
              "      <td>NaN</td>\n",
              "      <td>42.67789</td>\n",
              "      <td>46.11255</td>\n",
              "      <td>3.054228</td>\n",
              "      <td>NaN</td>\n",
              "      <td>NaN</td>\n",
              "      <td>http://www.bloomberg.com/politics/articles/201...</td>\n",
              "      <td>47469</td>\n",
              "      <td>74257</td>\n",
              "      <td>10/26/16</td>\n",
              "      <td>15:09:38  1 Nov 2016</td>\n",
              "    </tr>\n",
              "    <tr>\n",
              "      <th>46</th>\n",
              "      <td>2016</td>\n",
              "      <td>President</td>\n",
              "      <td>polls-plus</td>\n",
              "      <td>Clinton vs. Trump vs. Johnson</td>\n",
              "      <td>11/1/16</td>\n",
              "      <td>Florida</td>\n",
              "      <td>10/20/2016</td>\n",
              "      <td>10/25/2016</td>\n",
              "      <td>University of North Florida</td>\n",
              "      <td>B+</td>\n",
              "      <td>819.0</td>\n",
              "      <td>lv</td>\n",
              "      <td>2.179954</td>\n",
              "      <td>43.0</td>\n",
              "      <td>39.0</td>\n",
              "      <td>6.0</td>\n",
              "      <td>NaN</td>\n",
              "      <td>43.94143</td>\n",
              "      <td>42.24168</td>\n",
              "      <td>4.507492</td>\n",
              "      <td>NaN</td>\n",
              "      <td>NaN</td>\n",
              "      <td>http://www.firstcoastnews.com/news/unf-poll-sh...</td>\n",
              "      <td>47549</td>\n",
              "      <td>74383</td>\n",
              "      <td>10/27/16</td>\n",
              "      <td>15:09:38  1 Nov 2016</td>\n",
              "    </tr>\n",
              "  </tbody>\n",
              "</table>\n",
              "</div>"
            ],
            "text/plain": [
              "    cycle     branch        type  ... question_id createddate             timestamp\n",
              "3    2016  President  polls-plus  ...       74252    10/25/16  15:09:38  1 Nov 2016\n",
              "11   2016  President  polls-plus  ...       74761    10/30/16  15:09:38  1 Nov 2016\n",
              "15   2016  President  polls-plus  ...       74770    10/30/16  15:09:38  1 Nov 2016\n",
              "17   2016  President  polls-plus  ...       74257    10/26/16  15:09:38  1 Nov 2016\n",
              "46   2016  President  polls-plus  ...       74383    10/27/16  15:09:38  1 Nov 2016\n",
              "\n",
              "[5 rows x 27 columns]"
            ]
          },
          "metadata": {
            "tags": []
          },
          "execution_count": 50
        }
      ]
    },
    {
      "cell_type": "code",
      "metadata": {
        "id": "Uusft3Asjfzg",
        "colab_type": "code",
        "colab": {
          "base_uri": "https://localhost:8080/",
          "height": 306
        },
        "outputId": "2660792c-13f3-4e95-844a-49496f5ce30e"
      },
      "source": [
        "polling = df_florida['pollster'].unique()\n",
        "print(type(polling))\n",
        "print(len(polling))\n",
        "polling"
      ],
      "execution_count": 51,
      "outputs": [
        {
          "output_type": "stream",
          "text": [
            "<class 'numpy.ndarray'>\n",
            "33\n"
          ],
          "name": "stdout"
        },
        {
          "output_type": "execute_result",
          "data": {
            "text/plain": [
              "array(['SurveyUSA', 'Siena College', 'Marist College', 'Selzer & Company',\n",
              "       'University of North Florida', 'Remington', 'Gravis Marketing',\n",
              "       'SurveyMonkey', 'YouGov', 'Public Policy Polling',\n",
              "       'Saint Leo University', 'Associated Industries of Florida',\n",
              "       'Dixie Strategies', 'Emerson College',\n",
              "       'Rasmussen Reports/Pulse Opinion Research',\n",
              "       'The Times-Picayune/Lucid', 'Quinnipiac University',\n",
              "       'Florida Atlantic University', 'Opinion Savvy/InsiderAdvantage',\n",
              "       'Cherry Communications', 'Google Consumer Surveys',\n",
              "       'Mason-Dixon Polling & Research, Inc.', 'Ipsos',\n",
              "       'CNN/Opinion Research Corp.', 'Suffolk University',\n",
              "       'Monmouth University', 'Global Strategy Group', 'JMC Enterprises',\n",
              "       'icitizen', 'Greenberg Quinlan Rosner (Democracy Corps)',\n",
              "       'OnMessage Inc.', 'Evolving Strategies',\n",
              "       'Florida Southern College'], dtype=object)"
            ]
          },
          "metadata": {
            "tags": []
          },
          "execution_count": 51
        }
      ]
    },
    {
      "cell_type": "code",
      "metadata": {
        "id": "IzIZb09cjpoe",
        "colab_type": "code",
        "colab": {
          "base_uri": "https://localhost:8080/",
          "height": 85
        },
        "outputId": "b6c0e920-58eb-4da3-8977-47ac84cd5309"
      },
      "source": [
        "pollsters = polling[0:5]\n",
        "print(type(pollsters))\n",
        "print(len(pollsters))\n",
        "pollsters"
      ],
      "execution_count": 52,
      "outputs": [
        {
          "output_type": "stream",
          "text": [
            "<class 'numpy.ndarray'>\n",
            "5\n"
          ],
          "name": "stdout"
        },
        {
          "output_type": "execute_result",
          "data": {
            "text/plain": [
              "array(['SurveyUSA', 'Siena College', 'Marist College', 'Selzer & Company',\n",
              "       'University of North Florida'], dtype=object)"
            ]
          },
          "metadata": {
            "tags": []
          },
          "execution_count": 52
        }
      ]
    },
    {
      "cell_type": "code",
      "metadata": {
        "id": "BaSvNRxvj7cy",
        "colab_type": "code",
        "colab": {
          "base_uri": "https://localhost:8080/",
          "height": 85
        },
        "outputId": "f8de8ac4-4494-4339-ef68-a900b8765806"
      },
      "source": [
        "\n",
        "list_by_pollster = []\n",
        "\n",
        "for poll in pollsters:\n",
        "  list_by_pollster.append(df_florida[df_florida.pollster == poll])\n",
        "\n",
        "#print(type(list_by_pollster))\n",
        "#print(list_by_pollster[0])\n",
        "\n",
        "trump_voteshare = []\n",
        "\n",
        "for voteshare in list_by_pollster:\n",
        "  trump_voteshare.append(voteshare['adjpoll_trump'].mean())\n",
        "\n",
        "print(type(trump_voteshare))\n",
        "print(trump_voteshare)\n",
        "\n",
        "clinton_voteshare = []\n",
        "\n",
        "for voteshare in list_by_pollster:\n",
        "  clinton_voteshare.append(voteshare['adjpoll_clinton'].mean())\n",
        "\n",
        "print(type(clinton_voteshare))\n",
        "print(clinton_voteshare)\n",
        "\n",
        "\n",
        " "
      ],
      "execution_count": 53,
      "outputs": [
        {
          "output_type": "stream",
          "text": [
            "<class 'list'>\n",
            "[44.87134777777778, 45.787591666666664, 43.77052266666667, 46.11279, 42.27662]\n",
            "<class 'list'>\n",
            "[44.840785555555556, 42.470850000000006, 43.99385200000001, 42.670683333333336, 43.612136666666665]\n"
          ],
          "name": "stdout"
        }
      ]
    },
    {
      "cell_type": "code",
      "metadata": {
        "id": "27GmpdNZkgS0",
        "colab_type": "code",
        "colab": {
          "base_uri": "https://localhost:8080/",
          "height": 51
        },
        "outputId": "b3e4dae4-99bf-4ec2-e758-4c29f7f34605"
      },
      "source": [
        "#Appending actual results\n",
        "\n",
        "#R-49%\n",
        "#D-47.8\n",
        "\n",
        "trump_voteshare.append(49.00)\n",
        "clinton_voteshare.append(47.8)\n",
        "\n",
        "print(trump_voteshare)\n",
        "print(clinton_voteshare)"
      ],
      "execution_count": 54,
      "outputs": [
        {
          "output_type": "stream",
          "text": [
            "[44.87134777777778, 45.787591666666664, 43.77052266666667, 46.11279, 42.27662, 49.0]\n",
            "[44.840785555555556, 42.470850000000006, 43.99385200000001, 42.670683333333336, 43.612136666666665, 47.8]\n"
          ],
          "name": "stdout"
        }
      ]
    },
    {
      "cell_type": "code",
      "metadata": {
        "id": "AJvjBQ9kohZS",
        "colab_type": "code",
        "colab": {
          "base_uri": "https://localhost:8080/",
          "height": 51
        },
        "outputId": "3278505d-c0f1-4685-fbee-0bb27f737d3d"
      },
      "source": [
        "pollsters"
      ],
      "execution_count": 55,
      "outputs": [
        {
          "output_type": "execute_result",
          "data": {
            "text/plain": [
              "array(['SurveyUSA', 'Siena College', 'Marist College', 'Selzer & Company',\n",
              "       'University of North Florida'], dtype=object)"
            ]
          },
          "metadata": {
            "tags": []
          },
          "execution_count": 55
        }
      ]
    },
    {
      "cell_type": "code",
      "metadata": {
        "id": "lDZajLchom9k",
        "colab_type": "code",
        "colab": {
          "base_uri": "https://localhost:8080/",
          "height": 51
        },
        "outputId": "aaf0662a-787f-4bf6-ca9f-952d68d47206"
      },
      "source": [
        "\n",
        "lst = list(pollsters)\n",
        "lst.append('Actual')\n",
        "\n",
        "pollsters = np.asarray(lst)\n",
        "pollsters"
      ],
      "execution_count": 56,
      "outputs": [
        {
          "output_type": "execute_result",
          "data": {
            "text/plain": [
              "array(['SurveyUSA', 'Siena College', 'Marist College', 'Selzer & Company',\n",
              "       'University of North Florida', 'Actual'], dtype='<U27')"
            ]
          },
          "metadata": {
            "tags": []
          },
          "execution_count": 56
        }
      ]
    },
    {
      "cell_type": "code",
      "metadata": {
        "id": "5N2NLS3RoycW",
        "colab_type": "code",
        "colab": {
          "base_uri": "https://localhost:8080/",
          "height": 51
        },
        "outputId": "ffcb7be1-2a57-4eea-9f79-cdac61e30a53"
      },
      "source": [
        "print(type(pollsters))\n",
        "print(len(pollsters))"
      ],
      "execution_count": 57,
      "outputs": [
        {
          "output_type": "stream",
          "text": [
            "<class 'numpy.ndarray'>\n",
            "6\n"
          ],
          "name": "stdout"
        }
      ]
    },
    {
      "cell_type": "code",
      "metadata": {
        "id": "3rPuy0KDo7Nx",
        "colab_type": "code",
        "colab": {
          "base_uri": "https://localhost:8080/",
          "height": 515
        },
        "outputId": "1c56abf7-fdaf-4766-ca0e-ff2c2bcf7f91"
      },
      "source": [
        "index=np.arange(len(pollsters))\n",
        "plt.figure(figsize=(14,8))\n",
        "plt.bar(index,trump_voteshare,width=0.5,align='center',alpha=0.5,color='red')\n",
        "plt.xlabel('Polling Agencies',fontsize=10)\n",
        "plt.ylabel('Trump Voteshare Projected',fontsize=10)\n",
        "plt.xticks(index, pollsters, fontsize=10)\n",
        "plt.title('Florida 2016 Polls v/s Reality')\n",
        "plt.show()"
      ],
      "execution_count": 99,
      "outputs": [
        {
          "output_type": "display_data",
          "data": {
            "image/png": "[encoded data removed]",
            "text/plain": [
              "<Figure size 1008x576 with 1 Axes>"
            ]
          },
          "metadata": {
            "tags": []
          }
        }
      ]
    },
    {
      "cell_type": "code",
      "metadata": {
        "id": "o_uhNvwopYPH",
        "colab_type": "code",
        "colab": {
          "base_uri": "https://localhost:8080/",
          "height": 518
        },
        "outputId": "c366c944-3880-42a5-fb47-83bbd4d9725f"
      },
      "source": [
        "index = np.arange(len(pollsters))\n",
        "plt.figure(figsize=(14,8))\n",
        "plt.bar(index,clinton_voteshare,width=0.5,align='center',alpha=0.5,color='blue')\n",
        "plt.xlabel('Polling Agencies')\n",
        "plt.ylabel('Clinton Voteshare Projected')\n",
        "plt.title('Florida 2016 Polls v/s Reality')\n",
        "plt.xticks(index,pollsters)\n",
        "plt.show()"
      ],
      "execution_count": 100,
      "outputs": [
        {
          "output_type": "display_data",
          "data": {
            "image/png": "[encoded data removed]",
            "text/plain": [
              "<Figure size 1008x576 with 1 Axes>"
            ]
          },
          "metadata": {
            "tags": []
          }
        }
      ]
    },
    {
      "cell_type": "code",
      "metadata": {
        "id": "e0SgTQ1Uq7-S",
        "colab_type": "code",
        "colab": {
          "base_uri": "https://localhost:8080/",
          "height": 518
        },
        "outputId": "238b7f74-52c0-4391-b4d7-6c0805d9ca44"
      },
      "source": [
        "index = np.arange(len(pollsters))\n",
        "plt.figure(figsize=(14,8))\n",
        "plt.bar(index,trump_voteshare,width=0.5,align='center',alpha=0.5,color='red')\n",
        "plt.bar(index,clinton_voteshare,width=0.5,alpha=0.5,align='center',color='blue')\n",
        "plt.xlabel('Polling Agencies')\n",
        "plt.ylabel('Voteshare Projected')\n",
        "plt.title('Florida 2016 Polls v/s Reality')\n",
        "plt.xticks(index,pollsters)\n",
        "plt.show()"
      ],
      "execution_count": 101,
      "outputs": [
        {
          "output_type": "display_data",
          "data": {
            "image/png": "[encoded data removed]",
            "text/plain": [
              "<Figure size 1008x576 with 1 Axes>"
            ]
          },
          "metadata": {
            "tags": []
          }
        }
      ]
    },
    {
      "cell_type": "code",
      "metadata": {
        "id": "cj2K5mTWtR_Y",
        "colab_type": "code",
        "colab": {
          "base_uri": "https://localhost:8080/",
          "height": 518
        },
        "outputId": "9a4bbe97-937f-47dc-fed0-66db167ac113"
      },
      "source": [
        "\n",
        "index = np.arange(len(pollsters))\n",
        "plt.figure(figsize=(14,8))\n",
        "\n",
        "barlist_1=plt.barh(index,trump_voteshare,align='center',alpha=0.5,color='red')\n",
        "barlist_1[5].set_color('y')\n",
        "barlist_2=plt.barh(index,clinton_voteshare,alpha=0.5,align='center',color='blue')\n",
        "barlist_2[5].set_color('g')\n",
        "plt.ylabel('Polling Agencies')\n",
        "plt.xlabel('Voteshare Projected')\n",
        "plt.title('Florida 2016 Polls v/s Reality')\n",
        "plt.yticks(index,pollsters)\n",
        "plt.show()\n"
      ],
      "execution_count": 116,
      "outputs": [
        {
          "output_type": "display_data",
          "data": {
            "image/png": "[encoded data removed]",
            "text/plain": [
              "<Figure size 1008x576 with 1 Axes>"
            ]
          },
          "metadata": {
            "tags": []
          }
        }
      ]
    },
    {
      "cell_type": "code",
      "metadata": {
        "id": "dw9L_3xSuVkA",
        "colab_type": "code",
        "colab": {}
      },
      "source": [
        ""
      ],
      "execution_count": 0,
      "outputs": []
    }
  ]
}