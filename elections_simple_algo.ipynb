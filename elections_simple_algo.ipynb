{
  "nbformat": 4,
  "nbformat_minor": 0,
  "metadata": {
    "colab": {
      "name": "elections_simple_algo.ipynb",
      "provenance": [],
      "collapsed_sections": [],
      "include_colab_link": true
    },
    "kernelspec": {
      "name": "python3",
      "display_name": "Python 3"
    }
  },
  "cells": [
    {
      "cell_type": "markdown",
      "metadata": {
        "id": "view-in-github",
        "colab_type": "text"
      },
      "source": [
        "<a href=\"https://colab.research.google.com/github/rohanrohan2012/ipl_datasets/blob/master/elections_simple_algo.ipynb\" target=\"_parent\"><img src=\"https://colab.research.google.com/assets/colab-badge.svg\" alt=\"Open In Colab\"/></a>"
      ]
    },
    {
      "cell_type": "code",
      "metadata": {
        "id": "x6S9v-Pnx6SF",
        "colab_type": "code",
        "colab": {}
      },
      "source": [
        "%matplotlib inline\n",
        "import pandas as pd \n",
        "import numpy as np\n",
        "import matplotlib.pyplot as plt\n",
        "import seaborn as sns\n",
        "sns.set()\n"
      ],
      "execution_count": 0,
      "outputs": []
    },
    {
      "cell_type": "code",
      "metadata": {
        "id": "IiPbWuuuy1xJ",
        "colab_type": "code",
        "outputId": "19fe9521-8575-4db6-9dc8-4d7870cbdbe8",
        "colab": {
          "base_uri": "https://localhost:8080/",
          "height": 551
        }
      },
      "source": [
        "url='https://raw.githubusercontent.com/rohanrohan2012/ipl_datasets/master/election/presidential_polls.csv'\n",
        "df = pd.read_csv(url)\n",
        "df.head(5)\n"
      ],
      "execution_count": 2,
      "outputs": [
        {
          "output_type": "execute_result",
          "data": {
            "text/html": [
              "<div>\n",
              "<style scoped>\n",
              "    .dataframe tbody tr th:only-of-type {\n",
              "        vertical-align: middle;\n",
              "    }\n",
              "\n",
              "    .dataframe tbody tr th {\n",
              "        vertical-align: top;\n",
              "    }\n",
              "\n",
              "    .dataframe thead th {\n",
              "        text-align: right;\n",
              "    }\n",
              "</style>\n",
              "<table border=\"1\" class=\"dataframe\">\n",
              "  <thead>\n",
              "    <tr style=\"text-align: right;\">\n",
              "      <th></th>\n",
              "      <th>cycle</th>\n",
              "      <th>branch</th>\n",
              "      <th>type</th>\n",
              "      <th>matchup</th>\n",
              "      <th>forecastdate</th>\n",
              "      <th>state</th>\n",
              "      <th>startdate</th>\n",
              "      <th>enddate</th>\n",
              "      <th>pollster</th>\n",
              "      <th>grade</th>\n",
              "      <th>samplesize</th>\n",
              "      <th>population</th>\n",
              "      <th>poll_wt</th>\n",
              "      <th>rawpoll_clinton</th>\n",
              "      <th>rawpoll_trump</th>\n",
              "      <th>rawpoll_johnson</th>\n",
              "      <th>rawpoll_mcmullin</th>\n",
              "      <th>adjpoll_clinton</th>\n",
              "      <th>adjpoll_trump</th>\n",
              "      <th>adjpoll_johnson</th>\n",
              "      <th>adjpoll_mcmullin</th>\n",
              "      <th>multiversions</th>\n",
              "      <th>url</th>\n",
              "      <th>poll_id</th>\n",
              "      <th>question_id</th>\n",
              "      <th>createddate</th>\n",
              "      <th>timestamp</th>\n",
              "    </tr>\n",
              "  </thead>\n",
              "  <tbody>\n",
              "    <tr>\n",
              "      <th>0</th>\n",
              "      <td>2016</td>\n",
              "      <td>President</td>\n",
              "      <td>polls-plus</td>\n",
              "      <td>Clinton vs. Trump vs. Johnson</td>\n",
              "      <td>11/1/16</td>\n",
              "      <td>U.S.</td>\n",
              "      <td>10/25/2016</td>\n",
              "      <td>10/31/2016</td>\n",
              "      <td>Google Consumer Surveys</td>\n",
              "      <td>B</td>\n",
              "      <td>24316.0</td>\n",
              "      <td>lv</td>\n",
              "      <td>6.139129</td>\n",
              "      <td>37.69</td>\n",
              "      <td>35.07</td>\n",
              "      <td>6.18</td>\n",
              "      <td>NaN</td>\n",
              "      <td>42.64140</td>\n",
              "      <td>40.86509</td>\n",
              "      <td>5.675099</td>\n",
              "      <td>NaN</td>\n",
              "      <td>NaN</td>\n",
              "      <td>https://datastudio.google.com/u/0/#/org//repor...</td>\n",
              "      <td>47940</td>\n",
              "      <td>74999</td>\n",
              "      <td>11/1/16</td>\n",
              "      <td>15:09:38  1 Nov 2016</td>\n",
              "    </tr>\n",
              "    <tr>\n",
              "      <th>1</th>\n",
              "      <td>2016</td>\n",
              "      <td>President</td>\n",
              "      <td>polls-plus</td>\n",
              "      <td>Clinton vs. Trump vs. Johnson</td>\n",
              "      <td>11/1/16</td>\n",
              "      <td>U.S.</td>\n",
              "      <td>10/27/2016</td>\n",
              "      <td>10/30/2016</td>\n",
              "      <td>ABC News/Washington Post</td>\n",
              "      <td>A+</td>\n",
              "      <td>1128.0</td>\n",
              "      <td>lv</td>\n",
              "      <td>4.197292</td>\n",
              "      <td>45.00</td>\n",
              "      <td>46.00</td>\n",
              "      <td>3.00</td>\n",
              "      <td>NaN</td>\n",
              "      <td>43.29659</td>\n",
              "      <td>44.72984</td>\n",
              "      <td>3.401513</td>\n",
              "      <td>NaN</td>\n",
              "      <td>NaN</td>\n",
              "      <td>http://www.langerresearch.com/wp-content/uploa...</td>\n",
              "      <td>47881</td>\n",
              "      <td>74936</td>\n",
              "      <td>11/1/16</td>\n",
              "      <td>15:09:38  1 Nov 2016</td>\n",
              "    </tr>\n",
              "    <tr>\n",
              "      <th>2</th>\n",
              "      <td>2016</td>\n",
              "      <td>President</td>\n",
              "      <td>polls-plus</td>\n",
              "      <td>Clinton vs. Trump vs. Johnson</td>\n",
              "      <td>11/1/16</td>\n",
              "      <td>Virginia</td>\n",
              "      <td>10/27/2016</td>\n",
              "      <td>10/30/2016</td>\n",
              "      <td>ABC News/Washington Post</td>\n",
              "      <td>A+</td>\n",
              "      <td>1024.0</td>\n",
              "      <td>lv</td>\n",
              "      <td>3.876856</td>\n",
              "      <td>48.00</td>\n",
              "      <td>42.00</td>\n",
              "      <td>6.00</td>\n",
              "      <td>NaN</td>\n",
              "      <td>46.29779</td>\n",
              "      <td>40.72604</td>\n",
              "      <td>6.401513</td>\n",
              "      <td>NaN</td>\n",
              "      <td>NaN</td>\n",
              "      <td>https://www.washingtonpost.com/local/virginia-...</td>\n",
              "      <td>47880</td>\n",
              "      <td>74934</td>\n",
              "      <td>11/1/16</td>\n",
              "      <td>15:09:38  1 Nov 2016</td>\n",
              "    </tr>\n",
              "    <tr>\n",
              "      <th>3</th>\n",
              "      <td>2016</td>\n",
              "      <td>President</td>\n",
              "      <td>polls-plus</td>\n",
              "      <td>Clinton vs. Trump vs. Johnson</td>\n",
              "      <td>11/1/16</td>\n",
              "      <td>Florida</td>\n",
              "      <td>10/20/2016</td>\n",
              "      <td>10/24/2016</td>\n",
              "      <td>SurveyUSA</td>\n",
              "      <td>A</td>\n",
              "      <td>1251.0</td>\n",
              "      <td>lv</td>\n",
              "      <td>3.403096</td>\n",
              "      <td>48.00</td>\n",
              "      <td>45.00</td>\n",
              "      <td>2.00</td>\n",
              "      <td>NaN</td>\n",
              "      <td>46.35931</td>\n",
              "      <td>45.30585</td>\n",
              "      <td>1.777730</td>\n",
              "      <td>NaN</td>\n",
              "      <td>NaN</td>\n",
              "      <td>http://www.baynews9.com/content/news/baynews9/...</td>\n",
              "      <td>47465</td>\n",
              "      <td>74252</td>\n",
              "      <td>10/25/16</td>\n",
              "      <td>15:09:38  1 Nov 2016</td>\n",
              "    </tr>\n",
              "    <tr>\n",
              "      <th>4</th>\n",
              "      <td>2016</td>\n",
              "      <td>President</td>\n",
              "      <td>polls-plus</td>\n",
              "      <td>Clinton vs. Trump vs. Johnson</td>\n",
              "      <td>11/1/16</td>\n",
              "      <td>U.S.</td>\n",
              "      <td>10/20/2016</td>\n",
              "      <td>10/25/2016</td>\n",
              "      <td>Pew Research Center</td>\n",
              "      <td>B+</td>\n",
              "      <td>2120.0</td>\n",
              "      <td>rv</td>\n",
              "      <td>3.394646</td>\n",
              "      <td>46.00</td>\n",
              "      <td>40.00</td>\n",
              "      <td>6.00</td>\n",
              "      <td>NaN</td>\n",
              "      <td>45.32744</td>\n",
              "      <td>42.20888</td>\n",
              "      <td>3.618320</td>\n",
              "      <td>NaN</td>\n",
              "      <td>NaN</td>\n",
              "      <td>http://www.people-press.org/2016/10/27/as-elec...</td>\n",
              "      <td>47616</td>\n",
              "      <td>74519</td>\n",
              "      <td>10/27/16</td>\n",
              "      <td>15:09:38  1 Nov 2016</td>\n",
              "    </tr>\n",
              "  </tbody>\n",
              "</table>\n",
              "</div>"
            ],
            "text/plain": [
              "   cycle     branch        type  ... question_id createddate             timestamp\n",
              "0   2016  President  polls-plus  ...       74999     11/1/16  15:09:38  1 Nov 2016\n",
              "1   2016  President  polls-plus  ...       74936     11/1/16  15:09:38  1 Nov 2016\n",
              "2   2016  President  polls-plus  ...       74934     11/1/16  15:09:38  1 Nov 2016\n",
              "3   2016  President  polls-plus  ...       74252    10/25/16  15:09:38  1 Nov 2016\n",
              "4   2016  President  polls-plus  ...       74519    10/27/16  15:09:38  1 Nov 2016\n",
              "\n",
              "[5 rows x 27 columns]"
            ]
          },
          "metadata": {
            "tags": []
          },
          "execution_count": 2
        }
      ]
    },
    {
      "cell_type": "code",
      "metadata": {
        "id": "UXyx56Zbzrso",
        "colab_type": "code",
        "outputId": "fcaed527-20da-4bfb-d00f-c9290817366d",
        "colab": {
          "base_uri": "https://localhost:8080/",
          "height": 34
        }
      },
      "source": [
        "df.shape"
      ],
      "execution_count": 3,
      "outputs": [
        {
          "output_type": "execute_result",
          "data": {
            "text/plain": [
              "(10236, 27)"
            ]
          },
          "metadata": {
            "tags": []
          },
          "execution_count": 3
        }
      ]
    },
    {
      "cell_type": "code",
      "metadata": {
        "id": "WMKLZ3jl0H5i",
        "colab_type": "code",
        "outputId": "1286bef0-5931-40a4-cd9a-378a6cfd1f8a",
        "colab": {
          "base_uri": "https://localhost:8080/",
          "height": 554
        }
      },
      "source": [
        "df.info()"
      ],
      "execution_count": 4,
      "outputs": [
        {
          "output_type": "stream",
          "text": [
            "<class 'pandas.core.frame.DataFrame'>\n",
            "RangeIndex: 10236 entries, 0 to 10235\n",
            "Data columns (total 27 columns):\n",
            "cycle               10236 non-null int64\n",
            "branch              10236 non-null object\n",
            "type                10236 non-null object\n",
            "matchup             10236 non-null object\n",
            "forecastdate        10236 non-null object\n",
            "state               10236 non-null object\n",
            "startdate           10236 non-null object\n",
            "enddate             10236 non-null object\n",
            "pollster            10236 non-null object\n",
            "grade               9102 non-null object\n",
            "samplesize          10233 non-null float64\n",
            "population          10236 non-null object\n",
            "poll_wt             10236 non-null float64\n",
            "rawpoll_clinton     10236 non-null float64\n",
            "rawpoll_trump       10236 non-null float64\n",
            "rawpoll_johnson     6480 non-null float64\n",
            "rawpoll_mcmullin    51 non-null float64\n",
            "adjpoll_clinton     10236 non-null float64\n",
            "adjpoll_trump       10236 non-null float64\n",
            "adjpoll_johnson     6480 non-null float64\n",
            "adjpoll_mcmullin    51 non-null float64\n",
            "multiversions       33 non-null object\n",
            "url                 10236 non-null object\n",
            "poll_id             10236 non-null int64\n",
            "question_id         10236 non-null int64\n",
            "createddate         10236 non-null object\n",
            "timestamp           10236 non-null object\n",
            "dtypes: float64(10), int64(3), object(14)\n",
            "memory usage: 2.1+ MB\n"
          ],
          "name": "stdout"
        }
      ]
    },
    {
      "cell_type": "code",
      "metadata": {
        "id": "uCw5h-rB0Kan",
        "colab_type": "code",
        "colab": {}
      },
      "source": [
        "cols = ['branch','type','matchup','startdate','enddate','rawpoll_johnson','rawpoll_mcmullin','adjpoll_johnson','adjpoll_mcmullin','multiversions','url','poll_id','question_id','createddate','timestamp']"
      ],
      "execution_count": 0,
      "outputs": []
    },
    {
      "cell_type": "code",
      "metadata": {
        "id": "DCuEqOKP1987",
        "colab_type": "code",
        "outputId": "d5477015-9a53-46b2-cf26-84487b2462c8",
        "colab": {
          "base_uri": "https://localhost:8080/",
          "height": 551
        }
      },
      "source": [
        "df = df.drop(['cycle'],axis=1)\n",
        "df.head()"
      ],
      "execution_count": 6,
      "outputs": [
        {
          "output_type": "execute_result",
          "data": {
            "text/html": [
              "<div>\n",
              "<style scoped>\n",
              "    .dataframe tbody tr th:only-of-type {\n",
              "        vertical-align: middle;\n",
              "    }\n",
              "\n",
              "    .dataframe tbody tr th {\n",
              "        vertical-align: top;\n",
              "    }\n",
              "\n",
              "    .dataframe thead th {\n",
              "        text-align: right;\n",
              "    }\n",
              "</style>\n",
              "<table border=\"1\" class=\"dataframe\">\n",
              "  <thead>\n",
              "    <tr style=\"text-align: right;\">\n",
              "      <th></th>\n",
              "      <th>branch</th>\n",
              "      <th>type</th>\n",
              "      <th>matchup</th>\n",
              "      <th>forecastdate</th>\n",
              "      <th>state</th>\n",
              "      <th>startdate</th>\n",
              "      <th>enddate</th>\n",
              "      <th>pollster</th>\n",
              "      <th>grade</th>\n",
              "      <th>samplesize</th>\n",
              "      <th>population</th>\n",
              "      <th>poll_wt</th>\n",
              "      <th>rawpoll_clinton</th>\n",
              "      <th>rawpoll_trump</th>\n",
              "      <th>rawpoll_johnson</th>\n",
              "      <th>rawpoll_mcmullin</th>\n",
              "      <th>adjpoll_clinton</th>\n",
              "      <th>adjpoll_trump</th>\n",
              "      <th>adjpoll_johnson</th>\n",
              "      <th>adjpoll_mcmullin</th>\n",
              "      <th>multiversions</th>\n",
              "      <th>url</th>\n",
              "      <th>poll_id</th>\n",
              "      <th>question_id</th>\n",
              "      <th>createddate</th>\n",
              "      <th>timestamp</th>\n",
              "    </tr>\n",
              "  </thead>\n",
              "  <tbody>\n",
              "    <tr>\n",
              "      <th>0</th>\n",
              "      <td>President</td>\n",
              "      <td>polls-plus</td>\n",
              "      <td>Clinton vs. Trump vs. Johnson</td>\n",
              "      <td>11/1/16</td>\n",
              "      <td>U.S.</td>\n",
              "      <td>10/25/2016</td>\n",
              "      <td>10/31/2016</td>\n",
              "      <td>Google Consumer Surveys</td>\n",
              "      <td>B</td>\n",
              "      <td>24316.0</td>\n",
              "      <td>lv</td>\n",
              "      <td>6.139129</td>\n",
              "      <td>37.69</td>\n",
              "      <td>35.07</td>\n",
              "      <td>6.18</td>\n",
              "      <td>NaN</td>\n",
              "      <td>42.64140</td>\n",
              "      <td>40.86509</td>\n",
              "      <td>5.675099</td>\n",
              "      <td>NaN</td>\n",
              "      <td>NaN</td>\n",
              "      <td>https://datastudio.google.com/u/0/#/org//repor...</td>\n",
              "      <td>47940</td>\n",
              "      <td>74999</td>\n",
              "      <td>11/1/16</td>\n",
              "      <td>15:09:38  1 Nov 2016</td>\n",
              "    </tr>\n",
              "    <tr>\n",
              "      <th>1</th>\n",
              "      <td>President</td>\n",
              "      <td>polls-plus</td>\n",
              "      <td>Clinton vs. Trump vs. Johnson</td>\n",
              "      <td>11/1/16</td>\n",
              "      <td>U.S.</td>\n",
              "      <td>10/27/2016</td>\n",
              "      <td>10/30/2016</td>\n",
              "      <td>ABC News/Washington Post</td>\n",
              "      <td>A+</td>\n",
              "      <td>1128.0</td>\n",
              "      <td>lv</td>\n",
              "      <td>4.197292</td>\n",
              "      <td>45.00</td>\n",
              "      <td>46.00</td>\n",
              "      <td>3.00</td>\n",
              "      <td>NaN</td>\n",
              "      <td>43.29659</td>\n",
              "      <td>44.72984</td>\n",
              "      <td>3.401513</td>\n",
              "      <td>NaN</td>\n",
              "      <td>NaN</td>\n",
              "      <td>http://www.langerresearch.com/wp-content/uploa...</td>\n",
              "      <td>47881</td>\n",
              "      <td>74936</td>\n",
              "      <td>11/1/16</td>\n",
              "      <td>15:09:38  1 Nov 2016</td>\n",
              "    </tr>\n",
              "    <tr>\n",
              "      <th>2</th>\n",
              "      <td>President</td>\n",
              "      <td>polls-plus</td>\n",
              "      <td>Clinton vs. Trump vs. Johnson</td>\n",
              "      <td>11/1/16</td>\n",
              "      <td>Virginia</td>\n",
              "      <td>10/27/2016</td>\n",
              "      <td>10/30/2016</td>\n",
              "      <td>ABC News/Washington Post</td>\n",
              "      <td>A+</td>\n",
              "      <td>1024.0</td>\n",
              "      <td>lv</td>\n",
              "      <td>3.876856</td>\n",
              "      <td>48.00</td>\n",
              "      <td>42.00</td>\n",
              "      <td>6.00</td>\n",
              "      <td>NaN</td>\n",
              "      <td>46.29779</td>\n",
              "      <td>40.72604</td>\n",
              "      <td>6.401513</td>\n",
              "      <td>NaN</td>\n",
              "      <td>NaN</td>\n",
              "      <td>https://www.washingtonpost.com/local/virginia-...</td>\n",
              "      <td>47880</td>\n",
              "      <td>74934</td>\n",
              "      <td>11/1/16</td>\n",
              "      <td>15:09:38  1 Nov 2016</td>\n",
              "    </tr>\n",
              "    <tr>\n",
              "      <th>3</th>\n",
              "      <td>President</td>\n",
              "      <td>polls-plus</td>\n",
              "      <td>Clinton vs. Trump vs. Johnson</td>\n",
              "      <td>11/1/16</td>\n",
              "      <td>Florida</td>\n",
              "      <td>10/20/2016</td>\n",
              "      <td>10/24/2016</td>\n",
              "      <td>SurveyUSA</td>\n",
              "      <td>A</td>\n",
              "      <td>1251.0</td>\n",
              "      <td>lv</td>\n",
              "      <td>3.403096</td>\n",
              "      <td>48.00</td>\n",
              "      <td>45.00</td>\n",
              "      <td>2.00</td>\n",
              "      <td>NaN</td>\n",
              "      <td>46.35931</td>\n",
              "      <td>45.30585</td>\n",
              "      <td>1.777730</td>\n",
              "      <td>NaN</td>\n",
              "      <td>NaN</td>\n",
              "      <td>http://www.baynews9.com/content/news/baynews9/...</td>\n",
              "      <td>47465</td>\n",
              "      <td>74252</td>\n",
              "      <td>10/25/16</td>\n",
              "      <td>15:09:38  1 Nov 2016</td>\n",
              "    </tr>\n",
              "    <tr>\n",
              "      <th>4</th>\n",
              "      <td>President</td>\n",
              "      <td>polls-plus</td>\n",
              "      <td>Clinton vs. Trump vs. Johnson</td>\n",
              "      <td>11/1/16</td>\n",
              "      <td>U.S.</td>\n",
              "      <td>10/20/2016</td>\n",
              "      <td>10/25/2016</td>\n",
              "      <td>Pew Research Center</td>\n",
              "      <td>B+</td>\n",
              "      <td>2120.0</td>\n",
              "      <td>rv</td>\n",
              "      <td>3.394646</td>\n",
              "      <td>46.00</td>\n",
              "      <td>40.00</td>\n",
              "      <td>6.00</td>\n",
              "      <td>NaN</td>\n",
              "      <td>45.32744</td>\n",
              "      <td>42.20888</td>\n",
              "      <td>3.618320</td>\n",
              "      <td>NaN</td>\n",
              "      <td>NaN</td>\n",
              "      <td>http://www.people-press.org/2016/10/27/as-elec...</td>\n",
              "      <td>47616</td>\n",
              "      <td>74519</td>\n",
              "      <td>10/27/16</td>\n",
              "      <td>15:09:38  1 Nov 2016</td>\n",
              "    </tr>\n",
              "  </tbody>\n",
              "</table>\n",
              "</div>"
            ],
            "text/plain": [
              "      branch        type  ... createddate             timestamp\n",
              "0  President  polls-plus  ...     11/1/16  15:09:38  1 Nov 2016\n",
              "1  President  polls-plus  ...     11/1/16  15:09:38  1 Nov 2016\n",
              "2  President  polls-plus  ...     11/1/16  15:09:38  1 Nov 2016\n",
              "3  President  polls-plus  ...    10/25/16  15:09:38  1 Nov 2016\n",
              "4  President  polls-plus  ...    10/27/16  15:09:38  1 Nov 2016\n",
              "\n",
              "[5 rows x 26 columns]"
            ]
          },
          "metadata": {
            "tags": []
          },
          "execution_count": 6
        }
      ]
    },
    {
      "cell_type": "code",
      "metadata": {
        "id": "9Yo1ih232KIs",
        "colab_type": "code",
        "outputId": "84a15563-397d-43e0-a473-07cb8eac1122",
        "colab": {
          "base_uri": "https://localhost:8080/",
          "height": 195
        }
      },
      "source": [
        "df.drop(cols,axis=1,inplace=True)\n",
        "df.head()"
      ],
      "execution_count": 7,
      "outputs": [
        {
          "output_type": "execute_result",
          "data": {
            "text/html": [
              "<div>\n",
              "<style scoped>\n",
              "    .dataframe tbody tr th:only-of-type {\n",
              "        vertical-align: middle;\n",
              "    }\n",
              "\n",
              "    .dataframe tbody tr th {\n",
              "        vertical-align: top;\n",
              "    }\n",
              "\n",
              "    .dataframe thead th {\n",
              "        text-align: right;\n",
              "    }\n",
              "</style>\n",
              "<table border=\"1\" class=\"dataframe\">\n",
              "  <thead>\n",
              "    <tr style=\"text-align: right;\">\n",
              "      <th></th>\n",
              "      <th>forecastdate</th>\n",
              "      <th>state</th>\n",
              "      <th>pollster</th>\n",
              "      <th>grade</th>\n",
              "      <th>samplesize</th>\n",
              "      <th>population</th>\n",
              "      <th>poll_wt</th>\n",
              "      <th>rawpoll_clinton</th>\n",
              "      <th>rawpoll_trump</th>\n",
              "      <th>adjpoll_clinton</th>\n",
              "      <th>adjpoll_trump</th>\n",
              "    </tr>\n",
              "  </thead>\n",
              "  <tbody>\n",
              "    <tr>\n",
              "      <th>0</th>\n",
              "      <td>11/1/16</td>\n",
              "      <td>U.S.</td>\n",
              "      <td>Google Consumer Surveys</td>\n",
              "      <td>B</td>\n",
              "      <td>24316.0</td>\n",
              "      <td>lv</td>\n",
              "      <td>6.139129</td>\n",
              "      <td>37.69</td>\n",
              "      <td>35.07</td>\n",
              "      <td>42.64140</td>\n",
              "      <td>40.86509</td>\n",
              "    </tr>\n",
              "    <tr>\n",
              "      <th>1</th>\n",
              "      <td>11/1/16</td>\n",
              "      <td>U.S.</td>\n",
              "      <td>ABC News/Washington Post</td>\n",
              "      <td>A+</td>\n",
              "      <td>1128.0</td>\n",
              "      <td>lv</td>\n",
              "      <td>4.197292</td>\n",
              "      <td>45.00</td>\n",
              "      <td>46.00</td>\n",
              "      <td>43.29659</td>\n",
              "      <td>44.72984</td>\n",
              "    </tr>\n",
              "    <tr>\n",
              "      <th>2</th>\n",
              "      <td>11/1/16</td>\n",
              "      <td>Virginia</td>\n",
              "      <td>ABC News/Washington Post</td>\n",
              "      <td>A+</td>\n",
              "      <td>1024.0</td>\n",
              "      <td>lv</td>\n",
              "      <td>3.876856</td>\n",
              "      <td>48.00</td>\n",
              "      <td>42.00</td>\n",
              "      <td>46.29779</td>\n",
              "      <td>40.72604</td>\n",
              "    </tr>\n",
              "    <tr>\n",
              "      <th>3</th>\n",
              "      <td>11/1/16</td>\n",
              "      <td>Florida</td>\n",
              "      <td>SurveyUSA</td>\n",
              "      <td>A</td>\n",
              "      <td>1251.0</td>\n",
              "      <td>lv</td>\n",
              "      <td>3.403096</td>\n",
              "      <td>48.00</td>\n",
              "      <td>45.00</td>\n",
              "      <td>46.35931</td>\n",
              "      <td>45.30585</td>\n",
              "    </tr>\n",
              "    <tr>\n",
              "      <th>4</th>\n",
              "      <td>11/1/16</td>\n",
              "      <td>U.S.</td>\n",
              "      <td>Pew Research Center</td>\n",
              "      <td>B+</td>\n",
              "      <td>2120.0</td>\n",
              "      <td>rv</td>\n",
              "      <td>3.394646</td>\n",
              "      <td>46.00</td>\n",
              "      <td>40.00</td>\n",
              "      <td>45.32744</td>\n",
              "      <td>42.20888</td>\n",
              "    </tr>\n",
              "  </tbody>\n",
              "</table>\n",
              "</div>"
            ],
            "text/plain": [
              "  forecastdate     state  ... adjpoll_clinton adjpoll_trump\n",
              "0      11/1/16      U.S.  ...        42.64140      40.86509\n",
              "1      11/1/16      U.S.  ...        43.29659      44.72984\n",
              "2      11/1/16  Virginia  ...        46.29779      40.72604\n",
              "3      11/1/16   Florida  ...        46.35931      45.30585\n",
              "4      11/1/16      U.S.  ...        45.32744      42.20888\n",
              "\n",
              "[5 rows x 11 columns]"
            ]
          },
          "metadata": {
            "tags": []
          },
          "execution_count": 7
        }
      ]
    },
    {
      "cell_type": "code",
      "metadata": {
        "id": "EumoGLhA3Yk8",
        "colab_type": "code",
        "outputId": "2949cfbc-e035-4b65-9ad7-60a80b0d8621",
        "colab": {
          "base_uri": "https://localhost:8080/",
          "height": 402
        }
      },
      "source": [
        "df"
      ],
      "execution_count": 8,
      "outputs": [
        {
          "output_type": "execute_result",
          "data": {
            "text/html": [
              "<div>\n",
              "<style scoped>\n",
              "    .dataframe tbody tr th:only-of-type {\n",
              "        vertical-align: middle;\n",
              "    }\n",
              "\n",
              "    .dataframe tbody tr th {\n",
              "        vertical-align: top;\n",
              "    }\n",
              "\n",
              "    .dataframe thead th {\n",
              "        text-align: right;\n",
              "    }\n",
              "</style>\n",
              "<table border=\"1\" class=\"dataframe\">\n",
              "  <thead>\n",
              "    <tr style=\"text-align: right;\">\n",
              "      <th></th>\n",
              "      <th>forecastdate</th>\n",
              "      <th>state</th>\n",
              "      <th>pollster</th>\n",
              "      <th>grade</th>\n",
              "      <th>samplesize</th>\n",
              "      <th>population</th>\n",
              "      <th>poll_wt</th>\n",
              "      <th>rawpoll_clinton</th>\n",
              "      <th>rawpoll_trump</th>\n",
              "      <th>adjpoll_clinton</th>\n",
              "      <th>adjpoll_trump</th>\n",
              "    </tr>\n",
              "  </thead>\n",
              "  <tbody>\n",
              "    <tr>\n",
              "      <th>0</th>\n",
              "      <td>11/1/16</td>\n",
              "      <td>U.S.</td>\n",
              "      <td>Google Consumer Surveys</td>\n",
              "      <td>B</td>\n",
              "      <td>24316.0</td>\n",
              "      <td>lv</td>\n",
              "      <td>6.139129</td>\n",
              "      <td>37.69</td>\n",
              "      <td>35.07</td>\n",
              "      <td>42.64140</td>\n",
              "      <td>40.86509</td>\n",
              "    </tr>\n",
              "    <tr>\n",
              "      <th>1</th>\n",
              "      <td>11/1/16</td>\n",
              "      <td>U.S.</td>\n",
              "      <td>ABC News/Washington Post</td>\n",
              "      <td>A+</td>\n",
              "      <td>1128.0</td>\n",
              "      <td>lv</td>\n",
              "      <td>4.197292</td>\n",
              "      <td>45.00</td>\n",
              "      <td>46.00</td>\n",
              "      <td>43.29659</td>\n",
              "      <td>44.72984</td>\n",
              "    </tr>\n",
              "    <tr>\n",
              "      <th>2</th>\n",
              "      <td>11/1/16</td>\n",
              "      <td>Virginia</td>\n",
              "      <td>ABC News/Washington Post</td>\n",
              "      <td>A+</td>\n",
              "      <td>1024.0</td>\n",
              "      <td>lv</td>\n",
              "      <td>3.876856</td>\n",
              "      <td>48.00</td>\n",
              "      <td>42.00</td>\n",
              "      <td>46.29779</td>\n",
              "      <td>40.72604</td>\n",
              "    </tr>\n",
              "    <tr>\n",
              "      <th>3</th>\n",
              "      <td>11/1/16</td>\n",
              "      <td>Florida</td>\n",
              "      <td>SurveyUSA</td>\n",
              "      <td>A</td>\n",
              "      <td>1251.0</td>\n",
              "      <td>lv</td>\n",
              "      <td>3.403096</td>\n",
              "      <td>48.00</td>\n",
              "      <td>45.00</td>\n",
              "      <td>46.35931</td>\n",
              "      <td>45.30585</td>\n",
              "    </tr>\n",
              "    <tr>\n",
              "      <th>4</th>\n",
              "      <td>11/1/16</td>\n",
              "      <td>U.S.</td>\n",
              "      <td>Pew Research Center</td>\n",
              "      <td>B+</td>\n",
              "      <td>2120.0</td>\n",
              "      <td>rv</td>\n",
              "      <td>3.394646</td>\n",
              "      <td>46.00</td>\n",
              "      <td>40.00</td>\n",
              "      <td>45.32744</td>\n",
              "      <td>42.20888</td>\n",
              "    </tr>\n",
              "    <tr>\n",
              "      <th>...</th>\n",
              "      <td>...</td>\n",
              "      <td>...</td>\n",
              "      <td>...</td>\n",
              "      <td>...</td>\n",
              "      <td>...</td>\n",
              "      <td>...</td>\n",
              "      <td>...</td>\n",
              "      <td>...</td>\n",
              "      <td>...</td>\n",
              "      <td>...</td>\n",
              "      <td>...</td>\n",
              "    </tr>\n",
              "    <tr>\n",
              "      <th>10231</th>\n",
              "      <td>11/1/16</td>\n",
              "      <td>Alabama</td>\n",
              "      <td>Ipsos</td>\n",
              "      <td>A-</td>\n",
              "      <td>341.0</td>\n",
              "      <td>lv</td>\n",
              "      <td>0.000000</td>\n",
              "      <td>38.30</td>\n",
              "      <td>53.84</td>\n",
              "      <td>37.30964</td>\n",
              "      <td>54.76821</td>\n",
              "    </tr>\n",
              "    <tr>\n",
              "      <th>10232</th>\n",
              "      <td>11/1/16</td>\n",
              "      <td>Virginia</td>\n",
              "      <td>Ipsos</td>\n",
              "      <td>A-</td>\n",
              "      <td>479.0</td>\n",
              "      <td>lv</td>\n",
              "      <td>0.000000</td>\n",
              "      <td>50.49</td>\n",
              "      <td>39.05</td>\n",
              "      <td>49.13094</td>\n",
              "      <td>39.41588</td>\n",
              "    </tr>\n",
              "    <tr>\n",
              "      <th>10233</th>\n",
              "      <td>11/1/16</td>\n",
              "      <td>Virginia</td>\n",
              "      <td>Ipsos</td>\n",
              "      <td>A-</td>\n",
              "      <td>452.0</td>\n",
              "      <td>lv</td>\n",
              "      <td>0.000000</td>\n",
              "      <td>46.54</td>\n",
              "      <td>40.04</td>\n",
              "      <td>45.97130</td>\n",
              "      <td>39.97518</td>\n",
              "    </tr>\n",
              "    <tr>\n",
              "      <th>10234</th>\n",
              "      <td>11/1/16</td>\n",
              "      <td>North Carolina</td>\n",
              "      <td>Public Policy Polling</td>\n",
              "      <td>B+</td>\n",
              "      <td>947.0</td>\n",
              "      <td>v</td>\n",
              "      <td>0.000000</td>\n",
              "      <td>43.00</td>\n",
              "      <td>43.00</td>\n",
              "      <td>45.29390</td>\n",
              "      <td>46.66175</td>\n",
              "    </tr>\n",
              "    <tr>\n",
              "      <th>10235</th>\n",
              "      <td>11/1/16</td>\n",
              "      <td>Utah</td>\n",
              "      <td>Ipsos</td>\n",
              "      <td>A-</td>\n",
              "      <td>211.0</td>\n",
              "      <td>lv</td>\n",
              "      <td>0.000000</td>\n",
              "      <td>32.54</td>\n",
              "      <td>43.61</td>\n",
              "      <td>31.62721</td>\n",
              "      <td>44.65947</td>\n",
              "    </tr>\n",
              "  </tbody>\n",
              "</table>\n",
              "<p>10236 rows × 11 columns</p>\n",
              "</div>"
            ],
            "text/plain": [
              "      forecastdate           state  ... adjpoll_clinton adjpoll_trump\n",
              "0          11/1/16            U.S.  ...        42.64140      40.86509\n",
              "1          11/1/16            U.S.  ...        43.29659      44.72984\n",
              "2          11/1/16        Virginia  ...        46.29779      40.72604\n",
              "3          11/1/16         Florida  ...        46.35931      45.30585\n",
              "4          11/1/16            U.S.  ...        45.32744      42.20888\n",
              "...            ...             ...  ...             ...           ...\n",
              "10231      11/1/16         Alabama  ...        37.30964      54.76821\n",
              "10232      11/1/16        Virginia  ...        49.13094      39.41588\n",
              "10233      11/1/16        Virginia  ...        45.97130      39.97518\n",
              "10234      11/1/16  North Carolina  ...        45.29390      46.66175\n",
              "10235      11/1/16            Utah  ...        31.62721      44.65947\n",
              "\n",
              "[10236 rows x 11 columns]"
            ]
          },
          "metadata": {
            "tags": []
          },
          "execution_count": 8
        }
      ]
    },
    {
      "cell_type": "code",
      "metadata": {
        "id": "gpKE9L483f47",
        "colab_type": "code",
        "colab": {}
      },
      "source": [
        "dummies =[]\n",
        "dummies.append(pd.get_dummies(df['population']))"
      ],
      "execution_count": 0,
      "outputs": []
    },
    {
      "cell_type": "code",
      "metadata": {
        "id": "nvdRKQaX3oSX",
        "colab_type": "code",
        "colab": {}
      },
      "source": [
        "df_dummies = pd.concat(dummies,axis=1)"
      ],
      "execution_count": 0,
      "outputs": []
    },
    {
      "cell_type": "code",
      "metadata": {
        "id": "YNczb0CU42AB",
        "colab_type": "code",
        "outputId": "f33d0eb9-2630-41bd-93af-0fd6cf03cb33",
        "colab": {
          "base_uri": "https://localhost:8080/",
          "height": 402
        }
      },
      "source": [
        "df_dummies"
      ],
      "execution_count": 11,
      "outputs": [
        {
          "output_type": "execute_result",
          "data": {
            "text/html": [
              "<div>\n",
              "<style scoped>\n",
              "    .dataframe tbody tr th:only-of-type {\n",
              "        vertical-align: middle;\n",
              "    }\n",
              "\n",
              "    .dataframe tbody tr th {\n",
              "        vertical-align: top;\n",
              "    }\n",
              "\n",
              "    .dataframe thead th {\n",
              "        text-align: right;\n",
              "    }\n",
              "</style>\n",
              "<table border=\"1\" class=\"dataframe\">\n",
              "  <thead>\n",
              "    <tr style=\"text-align: right;\">\n",
              "      <th></th>\n",
              "      <th>a</th>\n",
              "      <th>lv</th>\n",
              "      <th>rv</th>\n",
              "      <th>v</th>\n",
              "    </tr>\n",
              "  </thead>\n",
              "  <tbody>\n",
              "    <tr>\n",
              "      <th>0</th>\n",
              "      <td>0</td>\n",
              "      <td>1</td>\n",
              "      <td>0</td>\n",
              "      <td>0</td>\n",
              "    </tr>\n",
              "    <tr>\n",
              "      <th>1</th>\n",
              "      <td>0</td>\n",
              "      <td>1</td>\n",
              "      <td>0</td>\n",
              "      <td>0</td>\n",
              "    </tr>\n",
              "    <tr>\n",
              "      <th>2</th>\n",
              "      <td>0</td>\n",
              "      <td>1</td>\n",
              "      <td>0</td>\n",
              "      <td>0</td>\n",
              "    </tr>\n",
              "    <tr>\n",
              "      <th>3</th>\n",
              "      <td>0</td>\n",
              "      <td>1</td>\n",
              "      <td>0</td>\n",
              "      <td>0</td>\n",
              "    </tr>\n",
              "    <tr>\n",
              "      <th>4</th>\n",
              "      <td>0</td>\n",
              "      <td>0</td>\n",
              "      <td>1</td>\n",
              "      <td>0</td>\n",
              "    </tr>\n",
              "    <tr>\n",
              "      <th>...</th>\n",
              "      <td>...</td>\n",
              "      <td>...</td>\n",
              "      <td>...</td>\n",
              "      <td>...</td>\n",
              "    </tr>\n",
              "    <tr>\n",
              "      <th>10231</th>\n",
              "      <td>0</td>\n",
              "      <td>1</td>\n",
              "      <td>0</td>\n",
              "      <td>0</td>\n",
              "    </tr>\n",
              "    <tr>\n",
              "      <th>10232</th>\n",
              "      <td>0</td>\n",
              "      <td>1</td>\n",
              "      <td>0</td>\n",
              "      <td>0</td>\n",
              "    </tr>\n",
              "    <tr>\n",
              "      <th>10233</th>\n",
              "      <td>0</td>\n",
              "      <td>1</td>\n",
              "      <td>0</td>\n",
              "      <td>0</td>\n",
              "    </tr>\n",
              "    <tr>\n",
              "      <th>10234</th>\n",
              "      <td>0</td>\n",
              "      <td>0</td>\n",
              "      <td>0</td>\n",
              "      <td>1</td>\n",
              "    </tr>\n",
              "    <tr>\n",
              "      <th>10235</th>\n",
              "      <td>0</td>\n",
              "      <td>1</td>\n",
              "      <td>0</td>\n",
              "      <td>0</td>\n",
              "    </tr>\n",
              "  </tbody>\n",
              "</table>\n",
              "<p>10236 rows × 4 columns</p>\n",
              "</div>"
            ],
            "text/plain": [
              "       a  lv  rv  v\n",
              "0      0   1   0  0\n",
              "1      0   1   0  0\n",
              "2      0   1   0  0\n",
              "3      0   1   0  0\n",
              "4      0   0   1  0\n",
              "...   ..  ..  .. ..\n",
              "10231  0   1   0  0\n",
              "10232  0   1   0  0\n",
              "10233  0   1   0  0\n",
              "10234  0   0   0  1\n",
              "10235  0   1   0  0\n",
              "\n",
              "[10236 rows x 4 columns]"
            ]
          },
          "metadata": {
            "tags": []
          },
          "execution_count": 11
        }
      ]
    },
    {
      "cell_type": "code",
      "metadata": {
        "id": "q49tnhnL43RS",
        "colab_type": "code",
        "outputId": "d2d166e6-72d8-4b44-8d6a-9e7607e21c11",
        "colab": {
          "base_uri": "https://localhost:8080/",
          "height": 195
        }
      },
      "source": [
        "df = pd.concat((df,df_dummies),axis=1)\n",
        "df.head()"
      ],
      "execution_count": 12,
      "outputs": [
        {
          "output_type": "execute_result",
          "data": {
            "text/html": [
              "<div>\n",
              "<style scoped>\n",
              "    .dataframe tbody tr th:only-of-type {\n",
              "        vertical-align: middle;\n",
              "    }\n",
              "\n",
              "    .dataframe tbody tr th {\n",
              "        vertical-align: top;\n",
              "    }\n",
              "\n",
              "    .dataframe thead th {\n",
              "        text-align: right;\n",
              "    }\n",
              "</style>\n",
              "<table border=\"1\" class=\"dataframe\">\n",
              "  <thead>\n",
              "    <tr style=\"text-align: right;\">\n",
              "      <th></th>\n",
              "      <th>forecastdate</th>\n",
              "      <th>state</th>\n",
              "      <th>pollster</th>\n",
              "      <th>grade</th>\n",
              "      <th>samplesize</th>\n",
              "      <th>population</th>\n",
              "      <th>poll_wt</th>\n",
              "      <th>rawpoll_clinton</th>\n",
              "      <th>rawpoll_trump</th>\n",
              "      <th>adjpoll_clinton</th>\n",
              "      <th>adjpoll_trump</th>\n",
              "      <th>a</th>\n",
              "      <th>lv</th>\n",
              "      <th>rv</th>\n",
              "      <th>v</th>\n",
              "    </tr>\n",
              "  </thead>\n",
              "  <tbody>\n",
              "    <tr>\n",
              "      <th>0</th>\n",
              "      <td>11/1/16</td>\n",
              "      <td>U.S.</td>\n",
              "      <td>Google Consumer Surveys</td>\n",
              "      <td>B</td>\n",
              "      <td>24316.0</td>\n",
              "      <td>lv</td>\n",
              "      <td>6.139129</td>\n",
              "      <td>37.69</td>\n",
              "      <td>35.07</td>\n",
              "      <td>42.64140</td>\n",
              "      <td>40.86509</td>\n",
              "      <td>0</td>\n",
              "      <td>1</td>\n",
              "      <td>0</td>\n",
              "      <td>0</td>\n",
              "    </tr>\n",
              "    <tr>\n",
              "      <th>1</th>\n",
              "      <td>11/1/16</td>\n",
              "      <td>U.S.</td>\n",
              "      <td>ABC News/Washington Post</td>\n",
              "      <td>A+</td>\n",
              "      <td>1128.0</td>\n",
              "      <td>lv</td>\n",
              "      <td>4.197292</td>\n",
              "      <td>45.00</td>\n",
              "      <td>46.00</td>\n",
              "      <td>43.29659</td>\n",
              "      <td>44.72984</td>\n",
              "      <td>0</td>\n",
              "      <td>1</td>\n",
              "      <td>0</td>\n",
              "      <td>0</td>\n",
              "    </tr>\n",
              "    <tr>\n",
              "      <th>2</th>\n",
              "      <td>11/1/16</td>\n",
              "      <td>Virginia</td>\n",
              "      <td>ABC News/Washington Post</td>\n",
              "      <td>A+</td>\n",
              "      <td>1024.0</td>\n",
              "      <td>lv</td>\n",
              "      <td>3.876856</td>\n",
              "      <td>48.00</td>\n",
              "      <td>42.00</td>\n",
              "      <td>46.29779</td>\n",
              "      <td>40.72604</td>\n",
              "      <td>0</td>\n",
              "      <td>1</td>\n",
              "      <td>0</td>\n",
              "      <td>0</td>\n",
              "    </tr>\n",
              "    <tr>\n",
              "      <th>3</th>\n",
              "      <td>11/1/16</td>\n",
              "      <td>Florida</td>\n",
              "      <td>SurveyUSA</td>\n",
              "      <td>A</td>\n",
              "      <td>1251.0</td>\n",
              "      <td>lv</td>\n",
              "      <td>3.403096</td>\n",
              "      <td>48.00</td>\n",
              "      <td>45.00</td>\n",
              "      <td>46.35931</td>\n",
              "      <td>45.30585</td>\n",
              "      <td>0</td>\n",
              "      <td>1</td>\n",
              "      <td>0</td>\n",
              "      <td>0</td>\n",
              "    </tr>\n",
              "    <tr>\n",
              "      <th>4</th>\n",
              "      <td>11/1/16</td>\n",
              "      <td>U.S.</td>\n",
              "      <td>Pew Research Center</td>\n",
              "      <td>B+</td>\n",
              "      <td>2120.0</td>\n",
              "      <td>rv</td>\n",
              "      <td>3.394646</td>\n",
              "      <td>46.00</td>\n",
              "      <td>40.00</td>\n",
              "      <td>45.32744</td>\n",
              "      <td>42.20888</td>\n",
              "      <td>0</td>\n",
              "      <td>0</td>\n",
              "      <td>1</td>\n",
              "      <td>0</td>\n",
              "    </tr>\n",
              "  </tbody>\n",
              "</table>\n",
              "</div>"
            ],
            "text/plain": [
              "  forecastdate     state                  pollster grade  ...  a lv  rv  v\n",
              "0      11/1/16      U.S.   Google Consumer Surveys     B  ...  0  1   0  0\n",
              "1      11/1/16      U.S.  ABC News/Washington Post    A+  ...  0  1   0  0\n",
              "2      11/1/16  Virginia  ABC News/Washington Post    A+  ...  0  1   0  0\n",
              "3      11/1/16   Florida                 SurveyUSA     A  ...  0  1   0  0\n",
              "4      11/1/16      U.S.       Pew Research Center    B+  ...  0  0   1  0\n",
              "\n",
              "[5 rows x 15 columns]"
            ]
          },
          "metadata": {
            "tags": []
          },
          "execution_count": 12
        }
      ]
    },
    {
      "cell_type": "code",
      "metadata": {
        "id": "J7etz9pP5k9h",
        "colab_type": "code",
        "outputId": "c0eef0cb-19a0-405c-a0a4-a584e535740c",
        "colab": {
          "base_uri": "https://localhost:8080/",
          "height": 402
        }
      },
      "source": [
        "df.drop(['population'],axis=1,inplace=True)\n",
        "df"
      ],
      "execution_count": 13,
      "outputs": [
        {
          "output_type": "execute_result",
          "data": {
            "text/html": [
              "<div>\n",
              "<style scoped>\n",
              "    .dataframe tbody tr th:only-of-type {\n",
              "        vertical-align: middle;\n",
              "    }\n",
              "\n",
              "    .dataframe tbody tr th {\n",
              "        vertical-align: top;\n",
              "    }\n",
              "\n",
              "    .dataframe thead th {\n",
              "        text-align: right;\n",
              "    }\n",
              "</style>\n",
              "<table border=\"1\" class=\"dataframe\">\n",
              "  <thead>\n",
              "    <tr style=\"text-align: right;\">\n",
              "      <th></th>\n",
              "      <th>forecastdate</th>\n",
              "      <th>state</th>\n",
              "      <th>pollster</th>\n",
              "      <th>grade</th>\n",
              "      <th>samplesize</th>\n",
              "      <th>poll_wt</th>\n",
              "      <th>rawpoll_clinton</th>\n",
              "      <th>rawpoll_trump</th>\n",
              "      <th>adjpoll_clinton</th>\n",
              "      <th>adjpoll_trump</th>\n",
              "      <th>a</th>\n",
              "      <th>lv</th>\n",
              "      <th>rv</th>\n",
              "      <th>v</th>\n",
              "    </tr>\n",
              "  </thead>\n",
              "  <tbody>\n",
              "    <tr>\n",
              "      <th>0</th>\n",
              "      <td>11/1/16</td>\n",
              "      <td>U.S.</td>\n",
              "      <td>Google Consumer Surveys</td>\n",
              "      <td>B</td>\n",
              "      <td>24316.0</td>\n",
              "      <td>6.139129</td>\n",
              "      <td>37.69</td>\n",
              "      <td>35.07</td>\n",
              "      <td>42.64140</td>\n",
              "      <td>40.86509</td>\n",
              "      <td>0</td>\n",
              "      <td>1</td>\n",
              "      <td>0</td>\n",
              "      <td>0</td>\n",
              "    </tr>\n",
              "    <tr>\n",
              "      <th>1</th>\n",
              "      <td>11/1/16</td>\n",
              "      <td>U.S.</td>\n",
              "      <td>ABC News/Washington Post</td>\n",
              "      <td>A+</td>\n",
              "      <td>1128.0</td>\n",
              "      <td>4.197292</td>\n",
              "      <td>45.00</td>\n",
              "      <td>46.00</td>\n",
              "      <td>43.29659</td>\n",
              "      <td>44.72984</td>\n",
              "      <td>0</td>\n",
              "      <td>1</td>\n",
              "      <td>0</td>\n",
              "      <td>0</td>\n",
              "    </tr>\n",
              "    <tr>\n",
              "      <th>2</th>\n",
              "      <td>11/1/16</td>\n",
              "      <td>Virginia</td>\n",
              "      <td>ABC News/Washington Post</td>\n",
              "      <td>A+</td>\n",
              "      <td>1024.0</td>\n",
              "      <td>3.876856</td>\n",
              "      <td>48.00</td>\n",
              "      <td>42.00</td>\n",
              "      <td>46.29779</td>\n",
              "      <td>40.72604</td>\n",
              "      <td>0</td>\n",
              "      <td>1</td>\n",
              "      <td>0</td>\n",
              "      <td>0</td>\n",
              "    </tr>\n",
              "    <tr>\n",
              "      <th>3</th>\n",
              "      <td>11/1/16</td>\n",
              "      <td>Florida</td>\n",
              "      <td>SurveyUSA</td>\n",
              "      <td>A</td>\n",
              "      <td>1251.0</td>\n",
              "      <td>3.403096</td>\n",
              "      <td>48.00</td>\n",
              "      <td>45.00</td>\n",
              "      <td>46.35931</td>\n",
              "      <td>45.30585</td>\n",
              "      <td>0</td>\n",
              "      <td>1</td>\n",
              "      <td>0</td>\n",
              "      <td>0</td>\n",
              "    </tr>\n",
              "    <tr>\n",
              "      <th>4</th>\n",
              "      <td>11/1/16</td>\n",
              "      <td>U.S.</td>\n",
              "      <td>Pew Research Center</td>\n",
              "      <td>B+</td>\n",
              "      <td>2120.0</td>\n",
              "      <td>3.394646</td>\n",
              "      <td>46.00</td>\n",
              "      <td>40.00</td>\n",
              "      <td>45.32744</td>\n",
              "      <td>42.20888</td>\n",
              "      <td>0</td>\n",
              "      <td>0</td>\n",
              "      <td>1</td>\n",
              "      <td>0</td>\n",
              "    </tr>\n",
              "    <tr>\n",
              "      <th>...</th>\n",
              "      <td>...</td>\n",
              "      <td>...</td>\n",
              "      <td>...</td>\n",
              "      <td>...</td>\n",
              "      <td>...</td>\n",
              "      <td>...</td>\n",
              "      <td>...</td>\n",
              "      <td>...</td>\n",
              "      <td>...</td>\n",
              "      <td>...</td>\n",
              "      <td>...</td>\n",
              "      <td>...</td>\n",
              "      <td>...</td>\n",
              "      <td>...</td>\n",
              "    </tr>\n",
              "    <tr>\n",
              "      <th>10231</th>\n",
              "      <td>11/1/16</td>\n",
              "      <td>Alabama</td>\n",
              "      <td>Ipsos</td>\n",
              "      <td>A-</td>\n",
              "      <td>341.0</td>\n",
              "      <td>0.000000</td>\n",
              "      <td>38.30</td>\n",
              "      <td>53.84</td>\n",
              "      <td>37.30964</td>\n",
              "      <td>54.76821</td>\n",
              "      <td>0</td>\n",
              "      <td>1</td>\n",
              "      <td>0</td>\n",
              "      <td>0</td>\n",
              "    </tr>\n",
              "    <tr>\n",
              "      <th>10232</th>\n",
              "      <td>11/1/16</td>\n",
              "      <td>Virginia</td>\n",
              "      <td>Ipsos</td>\n",
              "      <td>A-</td>\n",
              "      <td>479.0</td>\n",
              "      <td>0.000000</td>\n",
              "      <td>50.49</td>\n",
              "      <td>39.05</td>\n",
              "      <td>49.13094</td>\n",
              "      <td>39.41588</td>\n",
              "      <td>0</td>\n",
              "      <td>1</td>\n",
              "      <td>0</td>\n",
              "      <td>0</td>\n",
              "    </tr>\n",
              "    <tr>\n",
              "      <th>10233</th>\n",
              "      <td>11/1/16</td>\n",
              "      <td>Virginia</td>\n",
              "      <td>Ipsos</td>\n",
              "      <td>A-</td>\n",
              "      <td>452.0</td>\n",
              "      <td>0.000000</td>\n",
              "      <td>46.54</td>\n",
              "      <td>40.04</td>\n",
              "      <td>45.97130</td>\n",
              "      <td>39.97518</td>\n",
              "      <td>0</td>\n",
              "      <td>1</td>\n",
              "      <td>0</td>\n",
              "      <td>0</td>\n",
              "    </tr>\n",
              "    <tr>\n",
              "      <th>10234</th>\n",
              "      <td>11/1/16</td>\n",
              "      <td>North Carolina</td>\n",
              "      <td>Public Policy Polling</td>\n",
              "      <td>B+</td>\n",
              "      <td>947.0</td>\n",
              "      <td>0.000000</td>\n",
              "      <td>43.00</td>\n",
              "      <td>43.00</td>\n",
              "      <td>45.29390</td>\n",
              "      <td>46.66175</td>\n",
              "      <td>0</td>\n",
              "      <td>0</td>\n",
              "      <td>0</td>\n",
              "      <td>1</td>\n",
              "    </tr>\n",
              "    <tr>\n",
              "      <th>10235</th>\n",
              "      <td>11/1/16</td>\n",
              "      <td>Utah</td>\n",
              "      <td>Ipsos</td>\n",
              "      <td>A-</td>\n",
              "      <td>211.0</td>\n",
              "      <td>0.000000</td>\n",
              "      <td>32.54</td>\n",
              "      <td>43.61</td>\n",
              "      <td>31.62721</td>\n",
              "      <td>44.65947</td>\n",
              "      <td>0</td>\n",
              "      <td>1</td>\n",
              "      <td>0</td>\n",
              "      <td>0</td>\n",
              "    </tr>\n",
              "  </tbody>\n",
              "</table>\n",
              "<p>10236 rows × 14 columns</p>\n",
              "</div>"
            ],
            "text/plain": [
              "      forecastdate           state                  pollster  ... lv  rv  v\n",
              "0          11/1/16            U.S.   Google Consumer Surveys  ...  1   0  0\n",
              "1          11/1/16            U.S.  ABC News/Washington Post  ...  1   0  0\n",
              "2          11/1/16        Virginia  ABC News/Washington Post  ...  1   0  0\n",
              "3          11/1/16         Florida                 SurveyUSA  ...  1   0  0\n",
              "4          11/1/16            U.S.       Pew Research Center  ...  0   1  0\n",
              "...            ...             ...                       ...  ... ..  .. ..\n",
              "10231      11/1/16         Alabama                     Ipsos  ...  1   0  0\n",
              "10232      11/1/16        Virginia                     Ipsos  ...  1   0  0\n",
              "10233      11/1/16        Virginia                     Ipsos  ...  1   0  0\n",
              "10234      11/1/16  North Carolina     Public Policy Polling  ...  0   0  1\n",
              "10235      11/1/16            Utah                     Ipsos  ...  1   0  0\n",
              "\n",
              "[10236 rows x 14 columns]"
            ]
          },
          "metadata": {
            "tags": []
          },
          "execution_count": 13
        }
      ]
    },
    {
      "cell_type": "code",
      "metadata": {
        "id": "UWDuzN926FXf",
        "colab_type": "code",
        "outputId": "f89f5eed-3752-49b4-9f59-4ee3d781d71d",
        "colab": {
          "base_uri": "https://localhost:8080/",
          "height": 418
        }
      },
      "source": [
        "df_us = df[df.state == 'U.S.']\n",
        "df_us"
      ],
      "execution_count": 14,
      "outputs": [
        {
          "output_type": "execute_result",
          "data": {
            "text/html": [
              "<div>\n",
              "<style scoped>\n",
              "    .dataframe tbody tr th:only-of-type {\n",
              "        vertical-align: middle;\n",
              "    }\n",
              "\n",
              "    .dataframe tbody tr th {\n",
              "        vertical-align: top;\n",
              "    }\n",
              "\n",
              "    .dataframe thead th {\n",
              "        text-align: right;\n",
              "    }\n",
              "</style>\n",
              "<table border=\"1\" class=\"dataframe\">\n",
              "  <thead>\n",
              "    <tr style=\"text-align: right;\">\n",
              "      <th></th>\n",
              "      <th>forecastdate</th>\n",
              "      <th>state</th>\n",
              "      <th>pollster</th>\n",
              "      <th>grade</th>\n",
              "      <th>samplesize</th>\n",
              "      <th>poll_wt</th>\n",
              "      <th>rawpoll_clinton</th>\n",
              "      <th>rawpoll_trump</th>\n",
              "      <th>adjpoll_clinton</th>\n",
              "      <th>adjpoll_trump</th>\n",
              "      <th>a</th>\n",
              "      <th>lv</th>\n",
              "      <th>rv</th>\n",
              "      <th>v</th>\n",
              "    </tr>\n",
              "  </thead>\n",
              "  <tbody>\n",
              "    <tr>\n",
              "      <th>0</th>\n",
              "      <td>11/1/16</td>\n",
              "      <td>U.S.</td>\n",
              "      <td>Google Consumer Surveys</td>\n",
              "      <td>B</td>\n",
              "      <td>24316.0</td>\n",
              "      <td>6.139129e+00</td>\n",
              "      <td>37.69</td>\n",
              "      <td>35.07</td>\n",
              "      <td>42.64140</td>\n",
              "      <td>40.86509</td>\n",
              "      <td>0</td>\n",
              "      <td>1</td>\n",
              "      <td>0</td>\n",
              "      <td>0</td>\n",
              "    </tr>\n",
              "    <tr>\n",
              "      <th>1</th>\n",
              "      <td>11/1/16</td>\n",
              "      <td>U.S.</td>\n",
              "      <td>ABC News/Washington Post</td>\n",
              "      <td>A+</td>\n",
              "      <td>1128.0</td>\n",
              "      <td>4.197292e+00</td>\n",
              "      <td>45.00</td>\n",
              "      <td>46.00</td>\n",
              "      <td>43.29659</td>\n",
              "      <td>44.72984</td>\n",
              "      <td>0</td>\n",
              "      <td>1</td>\n",
              "      <td>0</td>\n",
              "      <td>0</td>\n",
              "    </tr>\n",
              "    <tr>\n",
              "      <th>4</th>\n",
              "      <td>11/1/16</td>\n",
              "      <td>U.S.</td>\n",
              "      <td>Pew Research Center</td>\n",
              "      <td>B+</td>\n",
              "      <td>2120.0</td>\n",
              "      <td>3.394646e+00</td>\n",
              "      <td>46.00</td>\n",
              "      <td>40.00</td>\n",
              "      <td>45.32744</td>\n",
              "      <td>42.20888</td>\n",
              "      <td>0</td>\n",
              "      <td>0</td>\n",
              "      <td>1</td>\n",
              "      <td>0</td>\n",
              "    </tr>\n",
              "    <tr>\n",
              "      <th>5</th>\n",
              "      <td>11/1/16</td>\n",
              "      <td>U.S.</td>\n",
              "      <td>Fox News/Anderson Robbins Research/Shaw &amp; Comp...</td>\n",
              "      <td>A</td>\n",
              "      <td>1221.0</td>\n",
              "      <td>3.346535e+00</td>\n",
              "      <td>44.00</td>\n",
              "      <td>41.00</td>\n",
              "      <td>44.65080</td>\n",
              "      <td>42.26663</td>\n",
              "      <td>0</td>\n",
              "      <td>1</td>\n",
              "      <td>0</td>\n",
              "      <td>0</td>\n",
              "    </tr>\n",
              "    <tr>\n",
              "      <th>6</th>\n",
              "      <td>11/1/16</td>\n",
              "      <td>U.S.</td>\n",
              "      <td>IBD/TIPP</td>\n",
              "      <td>A-</td>\n",
              "      <td>1018.0</td>\n",
              "      <td>3.275062e+00</td>\n",
              "      <td>44.60</td>\n",
              "      <td>43.70</td>\n",
              "      <td>46.21834</td>\n",
              "      <td>43.56017</td>\n",
              "      <td>0</td>\n",
              "      <td>1</td>\n",
              "      <td>0</td>\n",
              "      <td>0</td>\n",
              "    </tr>\n",
              "    <tr>\n",
              "      <th>...</th>\n",
              "      <td>...</td>\n",
              "      <td>...</td>\n",
              "      <td>...</td>\n",
              "      <td>...</td>\n",
              "      <td>...</td>\n",
              "      <td>...</td>\n",
              "      <td>...</td>\n",
              "      <td>...</td>\n",
              "      <td>...</td>\n",
              "      <td>...</td>\n",
              "      <td>...</td>\n",
              "      <td>...</td>\n",
              "      <td>...</td>\n",
              "      <td>...</td>\n",
              "    </tr>\n",
              "    <tr>\n",
              "      <th>10113</th>\n",
              "      <td>11/1/16</td>\n",
              "      <td>U.S.</td>\n",
              "      <td>Ipsos</td>\n",
              "      <td>A-</td>\n",
              "      <td>250.0</td>\n",
              "      <td>3.220000e-09</td>\n",
              "      <td>38.00</td>\n",
              "      <td>41.00</td>\n",
              "      <td>35.93998</td>\n",
              "      <td>40.02069</td>\n",
              "      <td>0</td>\n",
              "      <td>1</td>\n",
              "      <td>0</td>\n",
              "      <td>0</td>\n",
              "    </tr>\n",
              "    <tr>\n",
              "      <th>10114</th>\n",
              "      <td>11/1/16</td>\n",
              "      <td>U.S.</td>\n",
              "      <td>Ipsos</td>\n",
              "      <td>A-</td>\n",
              "      <td>289.0</td>\n",
              "      <td>1.980000e-09</td>\n",
              "      <td>43.00</td>\n",
              "      <td>33.00</td>\n",
              "      <td>41.02875</td>\n",
              "      <td>31.63534</td>\n",
              "      <td>0</td>\n",
              "      <td>1</td>\n",
              "      <td>0</td>\n",
              "      <td>0</td>\n",
              "    </tr>\n",
              "    <tr>\n",
              "      <th>10115</th>\n",
              "      <td>11/1/16</td>\n",
              "      <td>U.S.</td>\n",
              "      <td>Morning Consult</td>\n",
              "      <td>NaN</td>\n",
              "      <td>2001.0</td>\n",
              "      <td>1.620000e-09</td>\n",
              "      <td>44.00</td>\n",
              "      <td>43.00</td>\n",
              "      <td>45.01414</td>\n",
              "      <td>44.31849</td>\n",
              "      <td>0</td>\n",
              "      <td>0</td>\n",
              "      <td>1</td>\n",
              "      <td>0</td>\n",
              "    </tr>\n",
              "    <tr>\n",
              "      <th>10142</th>\n",
              "      <td>11/1/16</td>\n",
              "      <td>U.S.</td>\n",
              "      <td>The Times-Picayune/Lucid</td>\n",
              "      <td>NaN</td>\n",
              "      <td>912.0</td>\n",
              "      <td>0.000000e+00</td>\n",
              "      <td>45.00</td>\n",
              "      <td>35.00</td>\n",
              "      <td>47.26828</td>\n",
              "      <td>40.35918</td>\n",
              "      <td>0</td>\n",
              "      <td>1</td>\n",
              "      <td>0</td>\n",
              "      <td>0</td>\n",
              "    </tr>\n",
              "    <tr>\n",
              "      <th>10197</th>\n",
              "      <td>11/1/16</td>\n",
              "      <td>U.S.</td>\n",
              "      <td>The Times-Picayune/Lucid</td>\n",
              "      <td>NaN</td>\n",
              "      <td>490.0</td>\n",
              "      <td>0.000000e+00</td>\n",
              "      <td>45.00</td>\n",
              "      <td>36.00</td>\n",
              "      <td>47.30371</td>\n",
              "      <td>41.32086</td>\n",
              "      <td>0</td>\n",
              "      <td>1</td>\n",
              "      <td>0</td>\n",
              "      <td>0</td>\n",
              "    </tr>\n",
              "  </tbody>\n",
              "</table>\n",
              "<p>3105 rows × 14 columns</p>\n",
              "</div>"
            ],
            "text/plain": [
              "      forecastdate state  ... rv  v\n",
              "0          11/1/16  U.S.  ...  0  0\n",
              "1          11/1/16  U.S.  ...  0  0\n",
              "4          11/1/16  U.S.  ...  1  0\n",
              "5          11/1/16  U.S.  ...  0  0\n",
              "6          11/1/16  U.S.  ...  0  0\n",
              "...            ...   ...  ... .. ..\n",
              "10113      11/1/16  U.S.  ...  0  0\n",
              "10114      11/1/16  U.S.  ...  0  0\n",
              "10115      11/1/16  U.S.  ...  1  0\n",
              "10142      11/1/16  U.S.  ...  0  0\n",
              "10197      11/1/16  U.S.  ...  0  0\n",
              "\n",
              "[3105 rows x 14 columns]"
            ]
          },
          "metadata": {
            "tags": []
          },
          "execution_count": 14
        }
      ]
    },
    {
      "cell_type": "code",
      "metadata": {
        "id": "pH5Peg1y6YQs",
        "colab_type": "code",
        "outputId": "5a542cc3-22f2-4973-ac4c-cdf088dc29be",
        "colab": {
          "base_uri": "https://localhost:8080/",
          "height": 235
        }
      },
      "source": [
        "by_state = df.state.unique()\n",
        "by_state"
      ],
      "execution_count": 15,
      "outputs": [
        {
          "output_type": "execute_result",
          "data": {
            "text/plain": [
              "array(['U.S.', 'Virginia', 'Florida', 'Pennsylvania', 'California',\n",
              "       'North Carolina', 'Missouri', 'Colorado', 'Arizona',\n",
              "       'New Hampshire', 'Ohio', 'Wisconsin', 'New Mexico', 'Iowa',\n",
              "       'Minnesota', 'Texas', 'Maine', 'Georgia', 'Nevada', 'Kentucky',\n",
              "       'Vermont', 'Idaho', 'South Carolina', 'New York', 'Michigan',\n",
              "       'Kansas', 'Illinois', 'Indiana', 'Utah', 'South Dakota', 'Montana',\n",
              "       'Washington', 'Massachusetts', 'Louisiana', 'Oregon', 'Maryland',\n",
              "       'New Jersey', 'Alaska', 'Mississippi', 'Maine CD-1', 'Maine CD-2',\n",
              "       'Nebraska CD-3', 'Nebraska CD-1', 'Connecticut', 'Tennessee',\n",
              "       'Oklahoma', 'Alabama', 'Arkansas', 'Hawaii', 'Delaware',\n",
              "       'Rhode Island', 'Nebraska', 'Nebraska CD-2', 'Wyoming',\n",
              "       'West Virginia', 'District of Columbia', 'North Dakota'],\n",
              "      dtype=object)"
            ]
          },
          "metadata": {
            "tags": []
          },
          "execution_count": 15
        }
      ]
    },
    {
      "cell_type": "code",
      "metadata": {
        "id": "JKFc3V8c63Se",
        "colab_type": "code",
        "colab": {}
      },
      "source": [
        "df_us=df_us.drop(['grade'],axis=1)"
      ],
      "execution_count": 0,
      "outputs": []
    },
    {
      "cell_type": "code",
      "metadata": {
        "id": "nykwbUPM7M-9",
        "colab_type": "code",
        "colab": {}
      },
      "source": [
        "df_us"
      ],
      "execution_count": 0,
      "outputs": []
    },
    {
      "cell_type": "code",
      "metadata": {
        "id": "N-QM1R227970",
        "colab_type": "code",
        "outputId": "a00e5dea-9d37-4ed1-9f1d-53c000ed534a",
        "colab": {
          "base_uri": "https://localhost:8080/",
          "height": 34
        }
      },
      "source": [
        "df_us.forecastdate.unique()"
      ],
      "execution_count": 18,
      "outputs": [
        {
          "output_type": "execute_result",
          "data": {
            "text/plain": [
              "array(['11/1/16'], dtype=object)"
            ]
          },
          "metadata": {
            "tags": []
          },
          "execution_count": 18
        }
      ]
    },
    {
      "cell_type": "code",
      "metadata": {
        "id": "9q4XR9x58GJY",
        "colab_type": "code",
        "colab": {}
      },
      "source": [
        "df_us=df_us.drop(['forecastdate'],axis=1)\n",
        "df_us"
      ],
      "execution_count": 0,
      "outputs": []
    },
    {
      "cell_type": "code",
      "metadata": {
        "id": "1dV3qjro8N2c",
        "colab_type": "code",
        "colab": {}
      },
      "source": [
        "plt.scatter(df_us.samplesize,df_us.adjpoll_clinton,marker='x',color='blue')\n",
        "plt.scatter(df_us.samplesize,df_us.adjpoll_trump,marker='x',color='red')\n",
        "plt.xlabel(\"sample size\")\n",
        "plt.ylabel('Candidates vote percentage')\n",
        "plt.figure(figsize=(10,20))\n"
      ],
      "execution_count": 0,
      "outputs": []
    },
    {
      "cell_type": "code",
      "metadata": {
        "id": "Dl1i0SmT8i7w",
        "colab_type": "code",
        "outputId": "541b1d44-80e5-4e7c-f685-133cdcc44b57",
        "colab": {
          "base_uri": "https://localhost:8080/",
          "height": 34
        }
      },
      "source": [
        "df_us['adjpoll_clinton'].mean()"
      ],
      "execution_count": 21,
      "outputs": [
        {
          "output_type": "execute_result",
          "data": {
            "text/plain": [
              "44.45489791626407"
            ]
          },
          "metadata": {
            "tags": []
          },
          "execution_count": 21
        }
      ]
    },
    {
      "cell_type": "code",
      "metadata": {
        "id": "2uX63j2xKYxX",
        "colab_type": "code",
        "outputId": "946b60fe-a1ec-4075-9416-fd5e323857d1",
        "colab": {
          "base_uri": "https://localhost:8080/",
          "height": 34
        }
      },
      "source": [
        "df_us['adjpoll_trump'].mean()"
      ],
      "execution_count": 22,
      "outputs": [
        {
          "output_type": "execute_result",
          "data": {
            "text/plain": [
              "41.04682024798712"
            ]
          },
          "metadata": {
            "tags": []
          },
          "execution_count": 22
        }
      ]
    },
    {
      "cell_type": "code",
      "metadata": {
        "id": "i3UQA-G6KjdH",
        "colab_type": "code",
        "colab": {}
      },
      "source": [
        "plt.scatter(df_us.adjpoll_clinton,df_us.adjpoll_trump)\n",
        "plt.xlabel('Clinton Voteshare')\n",
        "plt.ylabel('Trump voteshare')\n",
        "var=[]\n",
        "for i in range(30,60):\n",
        "    var.append(i)\n",
        "plt.plot(var,var,color='red')\n",
        "plt.show()"
      ],
      "execution_count": 0,
      "outputs": []
    },
    {
      "cell_type": "code",
      "metadata": {
        "id": "ss5ezb4eLJCC",
        "colab_type": "code",
        "colab": {}
      },
      "source": [
        "trump_below_40 = df_us[df_us.adjpoll_trump < 40.00]\n",
        "trump_below_40"
      ],
      "execution_count": 0,
      "outputs": []
    },
    {
      "cell_type": "code",
      "metadata": {
        "id": "F6zDMNkoO7X6",
        "colab_type": "code",
        "outputId": "0c7c9854-7c07-4210-ccce-81e989ef4322",
        "colab": {
          "base_uri": "https://localhost:8080/",
          "height": 34
        }
      },
      "source": [
        "df_us.shape"
      ],
      "execution_count": 25,
      "outputs": [
        {
          "output_type": "execute_result",
          "data": {
            "text/plain": [
              "(3105, 12)"
            ]
          },
          "metadata": {
            "tags": []
          },
          "execution_count": 25
        }
      ]
    },
    {
      "cell_type": "code",
      "metadata": {
        "id": "pKHNFr1dPHjA",
        "colab_type": "code",
        "outputId": "138f5706-3cec-4520-e888-7a4d18eeee9e",
        "colab": {
          "base_uri": "https://localhost:8080/",
          "height": 47
        }
      },
      "source": [
        "trump_above_55 = df_us[df_us.adjpoll_trump > 55.00]\n",
        "trump_above_55"
      ],
      "execution_count": 26,
      "outputs": [
        {
          "output_type": "execute_result",
          "data": {
            "text/html": [
              "<div>\n",
              "<style scoped>\n",
              "    .dataframe tbody tr th:only-of-type {\n",
              "        vertical-align: middle;\n",
              "    }\n",
              "\n",
              "    .dataframe tbody tr th {\n",
              "        vertical-align: top;\n",
              "    }\n",
              "\n",
              "    .dataframe thead th {\n",
              "        text-align: right;\n",
              "    }\n",
              "</style>\n",
              "<table border=\"1\" class=\"dataframe\">\n",
              "  <thead>\n",
              "    <tr style=\"text-align: right;\">\n",
              "      <th></th>\n",
              "      <th>state</th>\n",
              "      <th>pollster</th>\n",
              "      <th>samplesize</th>\n",
              "      <th>poll_wt</th>\n",
              "      <th>rawpoll_clinton</th>\n",
              "      <th>rawpoll_trump</th>\n",
              "      <th>adjpoll_clinton</th>\n",
              "      <th>adjpoll_trump</th>\n",
              "      <th>a</th>\n",
              "      <th>lv</th>\n",
              "      <th>rv</th>\n",
              "      <th>v</th>\n",
              "    </tr>\n",
              "  </thead>\n",
              "  <tbody>\n",
              "  </tbody>\n",
              "</table>\n",
              "</div>"
            ],
            "text/plain": [
              "Empty DataFrame\n",
              "Columns: [state, pollster, samplesize, poll_wt, rawpoll_clinton, rawpoll_trump, adjpoll_clinton, adjpoll_trump, a, lv, rv, v]\n",
              "Index: []"
            ]
          },
          "metadata": {
            "tags": []
          },
          "execution_count": 26
        }
      ]
    },
    {
      "cell_type": "code",
      "metadata": {
        "id": "y0n5j2gyPXHq",
        "colab_type": "code",
        "outputId": "a4647eaf-e2dc-48a3-8579-d4b08f352dbb",
        "colab": {
          "base_uri": "https://localhost:8080/",
          "height": 136
        }
      },
      "source": [
        "clinton_above_55 = df_us[df_us.adjpoll_clinton > 55.00]\n",
        "clinton_above_55"
      ],
      "execution_count": 27,
      "outputs": [
        {
          "output_type": "execute_result",
          "data": {
            "text/html": [
              "<div>\n",
              "<style scoped>\n",
              "    .dataframe tbody tr th:only-of-type {\n",
              "        vertical-align: middle;\n",
              "    }\n",
              "\n",
              "    .dataframe tbody tr th {\n",
              "        vertical-align: top;\n",
              "    }\n",
              "\n",
              "    .dataframe thead th {\n",
              "        text-align: right;\n",
              "    }\n",
              "</style>\n",
              "<table border=\"1\" class=\"dataframe\">\n",
              "  <thead>\n",
              "    <tr style=\"text-align: right;\">\n",
              "      <th></th>\n",
              "      <th>state</th>\n",
              "      <th>pollster</th>\n",
              "      <th>samplesize</th>\n",
              "      <th>poll_wt</th>\n",
              "      <th>rawpoll_clinton</th>\n",
              "      <th>rawpoll_trump</th>\n",
              "      <th>adjpoll_clinton</th>\n",
              "      <th>adjpoll_trump</th>\n",
              "      <th>a</th>\n",
              "      <th>lv</th>\n",
              "      <th>rv</th>\n",
              "      <th>v</th>\n",
              "    </tr>\n",
              "  </thead>\n",
              "  <tbody>\n",
              "    <tr>\n",
              "      <th>1735</th>\n",
              "      <td>U.S.</td>\n",
              "      <td>RAND (American Life Panel)</td>\n",
              "      <td>336.0</td>\n",
              "      <td>0.007834</td>\n",
              "      <td>57.7</td>\n",
              "      <td>32.5</td>\n",
              "      <td>55.73744</td>\n",
              "      <td>35.49670</td>\n",
              "      <td>0</td>\n",
              "      <td>1</td>\n",
              "      <td>0</td>\n",
              "      <td>0</td>\n",
              "    </tr>\n",
              "    <tr>\n",
              "      <th>5150</th>\n",
              "      <td>U.S.</td>\n",
              "      <td>RAND (American Life Panel)</td>\n",
              "      <td>336.0</td>\n",
              "      <td>0.006225</td>\n",
              "      <td>57.7</td>\n",
              "      <td>32.5</td>\n",
              "      <td>55.53419</td>\n",
              "      <td>35.88838</td>\n",
              "      <td>0</td>\n",
              "      <td>1</td>\n",
              "      <td>0</td>\n",
              "      <td>0</td>\n",
              "    </tr>\n",
              "    <tr>\n",
              "      <th>8559</th>\n",
              "      <td>U.S.</td>\n",
              "      <td>RAND (American Life Panel)</td>\n",
              "      <td>336.0</td>\n",
              "      <td>0.007834</td>\n",
              "      <td>57.7</td>\n",
              "      <td>32.5</td>\n",
              "      <td>55.43084</td>\n",
              "      <td>36.22523</td>\n",
              "      <td>0</td>\n",
              "      <td>1</td>\n",
              "      <td>0</td>\n",
              "      <td>0</td>\n",
              "    </tr>\n",
              "  </tbody>\n",
              "</table>\n",
              "</div>"
            ],
            "text/plain": [
              "     state                    pollster  samplesize   poll_wt  ...  a  lv  rv  v\n",
              "1735  U.S.  RAND (American Life Panel)       336.0  0.007834  ...  0   1   0  0\n",
              "5150  U.S.  RAND (American Life Panel)       336.0  0.006225  ...  0   1   0  0\n",
              "8559  U.S.  RAND (American Life Panel)       336.0  0.007834  ...  0   1   0  0\n",
              "\n",
              "[3 rows x 12 columns]"
            ]
          },
          "metadata": {
            "tags": []
          },
          "execution_count": 27
        }
      ]
    },
    {
      "cell_type": "code",
      "metadata": {
        "id": "mdg0hfpDPtew",
        "colab_type": "code",
        "outputId": "5abfa054-39c7-4de6-8959-0772705baff3",
        "colab": {
          "base_uri": "https://localhost:8080/",
          "height": 34
        }
      },
      "source": [
        "df_us['adjpoll_trump'].std()"
      ],
      "execution_count": 28,
      "outputs": [
        {
          "output_type": "execute_result",
          "data": {
            "text/plain": [
              "3.3644028874692222"
            ]
          },
          "metadata": {
            "tags": []
          },
          "execution_count": 28
        }
      ]
    },
    {
      "cell_type": "code",
      "metadata": {
        "id": "I-zYeJ92Q3os",
        "colab_type": "code",
        "outputId": "e644d918-cc78-4cc0-d7f6-c760111db211",
        "colab": {
          "base_uri": "https://localhost:8080/",
          "height": 34
        }
      },
      "source": [
        "df_us['adjpoll_clinton'].std()"
      ],
      "execution_count": 29,
      "outputs": [
        {
          "output_type": "execute_result",
          "data": {
            "text/plain": [
              "2.5165652198508117"
            ]
          },
          "metadata": {
            "tags": []
          },
          "execution_count": 29
        }
      ]
    },
    {
      "cell_type": "code",
      "metadata": {
        "id": "Wz02Uc9WRAk_",
        "colab_type": "code",
        "colab": {}
      },
      "source": [
        "plt.figure(figsize=(15,10))\n",
        "plt.tight_layout()\n",
        "sns.distplot(df_us['adjpoll_clinton'])"
      ],
      "execution_count": 0,
      "outputs": []
    },
    {
      "cell_type": "code",
      "metadata": {
        "id": "ghRB94h9Sbos",
        "colab_type": "code",
        "colab": {}
      },
      "source": [
        "plt.figure(figsize=(15,10))\n",
        "plt.tight_layout()\n",
        "sns.distplot(df_us['adjpoll_trump'])"
      ],
      "execution_count": 0,
      "outputs": []
    },
    {
      "cell_type": "code",
      "metadata": {
        "id": "bXz8ihHfSxAw",
        "colab_type": "code",
        "colab": {}
      },
      "source": [
        "df_us"
      ],
      "execution_count": 0,
      "outputs": []
    },
    {
      "cell_type": "code",
      "metadata": {
        "id": "PmhaiPEcTSt6",
        "colab_type": "code",
        "outputId": "94392a39-e58f-4af8-d2b4-f3d0b8181374",
        "colab": {
          "base_uri": "https://localhost:8080/",
          "height": 34
        }
      },
      "source": [
        "df_us_rv = df_us[df_us.rv == 1]\n",
        "df_us_rv.shape"
      ],
      "execution_count": 33,
      "outputs": [
        {
          "output_type": "execute_result",
          "data": {
            "text/plain": [
              "(543, 12)"
            ]
          },
          "metadata": {
            "tags": []
          },
          "execution_count": 33
        }
      ]
    },
    {
      "cell_type": "code",
      "metadata": {
        "id": "JiQlWbDxT9nG",
        "colab_type": "code",
        "outputId": "6f0874b6-dc31-4209-f7a6-477717457d36",
        "colab": {
          "base_uri": "https://localhost:8080/",
          "height": 34
        }
      },
      "source": [
        "df_us_lv = df_us[df_us.lv == 1]\n",
        "df_us_lv.shape"
      ],
      "execution_count": 34,
      "outputs": [
        {
          "output_type": "execute_result",
          "data": {
            "text/plain": [
              "(2538, 12)"
            ]
          },
          "metadata": {
            "tags": []
          },
          "execution_count": 34
        }
      ]
    },
    {
      "cell_type": "code",
      "metadata": {
        "id": "uaI0OSDCUVka",
        "colab_type": "code",
        "colab": {}
      },
      "source": [
        "plt.figure(figsize=(15,10))\n",
        "plt.tight_layout()\n",
        "sns.distplot(df_us_lv['adjpoll_clinton'])"
      ],
      "execution_count": 0,
      "outputs": []
    },
    {
      "cell_type": "code",
      "metadata": {
        "id": "cMLtqdwkUwlO",
        "colab_type": "code",
        "colab": {}
      },
      "source": [
        "plt.figure(figsize=(15,10))\n",
        "plt.tight_layout()\n",
        "sns.distplot(df_us_lv['adjpoll_trump'])"
      ],
      "execution_count": 0,
      "outputs": []
    },
    {
      "cell_type": "code",
      "metadata": {
        "id": "IAVPVAnrU6_w",
        "colab_type": "code",
        "colab": {}
      },
      "source": [
        "plt.figure(figsize=(15,10))\n",
        "plt.tight_layout()\n",
        "sns.distplot(df_us_rv['adjpoll_clinton'])"
      ],
      "execution_count": 0,
      "outputs": []
    },
    {
      "cell_type": "code",
      "metadata": {
        "id": "r2d_s3uUVL0B",
        "colab_type": "code",
        "colab": {}
      },
      "source": [
        "plt.figure(figsize=(15,10))\n",
        "plt.tight_layout()\n",
        "sns.distplot(df_us_rv['adjpoll_trump'])"
      ],
      "execution_count": 0,
      "outputs": []
    },
    {
      "cell_type": "code",
      "metadata": {
        "id": "q0_tYX4lVhpy",
        "colab_type": "code",
        "outputId": "aaa0b214-f637-47a0-aff0-53300331d4bf",
        "colab": {
          "base_uri": "https://localhost:8080/",
          "height": 67
        }
      },
      "source": [
        "state=by_state[1:10]\n",
        "state"
      ],
      "execution_count": 39,
      "outputs": [
        {
          "output_type": "execute_result",
          "data": {
            "text/plain": [
              "array(['Virginia', 'Florida', 'Pennsylvania', 'California',\n",
              "       'North Carolina', 'Missouri', 'Colorado', 'Arizona',\n",
              "       'New Hampshire'], dtype=object)"
            ]
          },
          "metadata": {
            "tags": []
          },
          "execution_count": 39
        }
      ]
    },
    {
      "cell_type": "code",
      "metadata": {
        "id": "-yL3NY2WWeN-",
        "colab_type": "code",
        "outputId": "5ccd71f2-5763-4792-b1db-e3d5341e68fa",
        "colab": {
          "base_uri": "https://localhost:8080/",
          "height": 168
        }
      },
      "source": [
        "\n",
        "#state_mean=[]\n",
        "#for st in state:\n",
        " # state_mean.append(df[st])\n",
        "#state_mean\n",
        "\n",
        "states = []\n",
        "for s in state:\n",
        "  states.append(df[df.state==s])\n",
        "\n",
        "means_clinton=[]\n",
        "for dataset in states:\n",
        "    means_clinton.append(dataset.adjpoll_clinton.mean()) \n",
        "\n",
        "means_trump=[]\n",
        "for dataset in states:\n",
        "    means_trump.append(dataset.adjpoll_trump.mean()) \n",
        "\n",
        "k=0\n",
        "for i in means_trump:\n",
        "    thisdict[state[k]]=i\n",
        "    k=k+1\n",
        "thisdict\n"
      ],
      "execution_count": 69,
      "outputs": [
        {
          "output_type": "execute_result",
          "data": {
            "text/plain": [
              "{'Arizona': 43.76853488888893,\n",
              " 'California': 32.29480078787881,\n",
              " 'Colorado': 39.18126425287356,\n",
              " 'Florida': 45.265343194444455,\n",
              " 'Missouri': 45.899889542483635,\n",
              " 'New Hampshire': 39.67423495934955,\n",
              " 'North Carolina': 44.61508775577559,\n",
              " 'Pennsylvania': 42.39855775438599,\n",
              " 'Virginia': 39.54615521126762}"
            ]
          },
          "metadata": {
            "tags": []
          },
          "execution_count": 69
        }
      ]
    },
    {
      "cell_type": "code",
      "metadata": {
        "id": "x_dkFeB6qBQD",
        "colab_type": "code",
        "colab": {
          "base_uri": "https://localhost:8080/",
          "height": 594
        },
        "outputId": "f9963ffc-f38a-4e50-f971-864615eeeee4"
      },
      "source": [
        "ypos=np.arange(len(state))\n",
        "plt.figure(figsize=(12,10))\n",
        "plt.bar(tuple(ypos),means_trump,align='center',alpha=0.5,color='red')\n",
        "plt.bar(tuple(ypos),means_clinton,align='center', alpha=0.5,color='blue')\n",
        "plt.xticks(ypos,state)\n",
        "plt.show()"
      ],
      "execution_count": 86,
      "outputs": [
        {
          "output_type": "display_data",
          "data": {
            "image/png": "[encoded data removed]",
            "text/plain": [
              "<Figure size 864x720 with 1 Axes>"
            ]
          },
          "metadata": {
            "tags": []
          }
        }
      ]
    },
    {
      "cell_type": "code",
      "metadata": {
        "id": "3lm4rKxmyUwY",
        "colab_type": "code",
        "colab": {}
      },
      "source": [
        ""
      ],
      "execution_count": 0,
      "outputs": []
    }
  ]
}